{
 "cells": [
  {
   "cell_type": "code",
   "execution_count": 13,
   "id": "6845e34a",
   "metadata": {},
   "outputs": [
    {
     "name": "stdout",
     "output_type": "stream",
     "text": [
      "enter elements in binary format and seperated by \",\"1,0,0,0,1\n",
      "[1, 0, 0, 0, 1]\n",
      "AND_Result : 0\n",
      "OR_Result : 1\n"
     ]
    }
   ],
   "source": [
    "def neuron(variables, activated_function):\n",
    "    if any(x not in (0,1) for x in inputs):\n",
    "        raise('please provide inputs in binary')\n",
    "    if  activated_function == 'OR':\n",
    "        return int(all(variables))\n",
    "    elif  activated_function== 'AND':\n",
    "        return int(any(variables))\n",
    "    else:\n",
    "        raise (\"Use either OR or AND as act_fn\")\n",
    "variables = input('enter elements in binary format and seperated by \",\"',)\n",
    "variables= list(int(x) for x in variables.split(','))\n",
    "print(variables)\n",
    "print('AND_Result :', neuron(variables, 'OR'))\n",
    "print('OR_Result :', neuron(variables, 'AND'))\n"
   ]
  },
  {
   "cell_type": "code",
   "execution_count": null,
   "id": "a564717d",
   "metadata": {},
   "outputs": [],
   "source": []
  }
 ],
 "metadata": {
  "kernelspec": {
   "display_name": "Python 3 (ipykernel)",
   "language": "python",
   "name": "python3"
  },
  "language_info": {
   "codemirror_mode": {
    "name": "ipython",
    "version": 3
   },
   "file_extension": ".py",
   "mimetype": "text/x-python",
   "name": "python",
   "nbconvert_exporter": "python",
   "pygments_lexer": "ipython3",
   "version": "3.11.3"
  }
 },
 "nbformat": 4,
 "nbformat_minor": 5
}
