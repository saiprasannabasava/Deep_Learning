{
 "cells": [
  {
   "cell_type": "code",
   "execution_count": 214,
   "id": "5eab9e73",
   "metadata": {},
   "outputs": [],
   "source": [
    "import pandas as pd\n",
    "import numpy as np\n",
    "import matplotlib.pyplot as plt\n",
    "import re"
   ]
  },
  {
   "cell_type": "code",
   "execution_count": 215,
   "id": "8f8b1a5c",
   "metadata": {},
   "outputs": [
    {
     "data": {
      "text/html": [
       "<div>\n",
       "<style scoped>\n",
       "    .dataframe tbody tr th:only-of-type {\n",
       "        vertical-align: middle;\n",
       "    }\n",
       "\n",
       "    .dataframe tbody tr th {\n",
       "        vertical-align: top;\n",
       "    }\n",
       "\n",
       "    .dataframe thead th {\n",
       "        text-align: right;\n",
       "    }\n",
       "</style>\n",
       "<table border=\"1\" class=\"dataframe\">\n",
       "  <thead>\n",
       "    <tr style=\"text-align: right;\">\n",
       "      <th></th>\n",
       "      <th>Time</th>\n",
       "      <th>Date</th>\n",
       "      <th>Day of the week</th>\n",
       "      <th>CarCount</th>\n",
       "      <th>BikeCount</th>\n",
       "      <th>BusCount</th>\n",
       "      <th>TruckCount</th>\n",
       "      <th>Total</th>\n",
       "      <th>Traffic Situation</th>\n",
       "    </tr>\n",
       "  </thead>\n",
       "  <tbody>\n",
       "    <tr>\n",
       "      <th>0</th>\n",
       "      <td>12:00:00 AM</td>\n",
       "      <td>10</td>\n",
       "      <td>Tuesday</td>\n",
       "      <td>31</td>\n",
       "      <td>0</td>\n",
       "      <td>4</td>\n",
       "      <td>4</td>\n",
       "      <td>39</td>\n",
       "      <td>low</td>\n",
       "    </tr>\n",
       "    <tr>\n",
       "      <th>1</th>\n",
       "      <td>12:15:00 AM</td>\n",
       "      <td>10</td>\n",
       "      <td>Tuesday</td>\n",
       "      <td>49</td>\n",
       "      <td>0</td>\n",
       "      <td>3</td>\n",
       "      <td>3</td>\n",
       "      <td>55</td>\n",
       "      <td>low</td>\n",
       "    </tr>\n",
       "    <tr>\n",
       "      <th>2</th>\n",
       "      <td>12:30:00 AM</td>\n",
       "      <td>10</td>\n",
       "      <td>Tuesday</td>\n",
       "      <td>46</td>\n",
       "      <td>0</td>\n",
       "      <td>3</td>\n",
       "      <td>6</td>\n",
       "      <td>55</td>\n",
       "      <td>low</td>\n",
       "    </tr>\n",
       "    <tr>\n",
       "      <th>3</th>\n",
       "      <td>12:45:00 AM</td>\n",
       "      <td>10</td>\n",
       "      <td>Tuesday</td>\n",
       "      <td>51</td>\n",
       "      <td>0</td>\n",
       "      <td>2</td>\n",
       "      <td>5</td>\n",
       "      <td>58</td>\n",
       "      <td>low</td>\n",
       "    </tr>\n",
       "    <tr>\n",
       "      <th>4</th>\n",
       "      <td>1:00:00 AM</td>\n",
       "      <td>10</td>\n",
       "      <td>Tuesday</td>\n",
       "      <td>57</td>\n",
       "      <td>6</td>\n",
       "      <td>15</td>\n",
       "      <td>16</td>\n",
       "      <td>94</td>\n",
       "      <td>normal</td>\n",
       "    </tr>\n",
       "  </tbody>\n",
       "</table>\n",
       "</div>"
      ],
      "text/plain": [
       "          Time  Date Day of the week  CarCount  BikeCount  BusCount  \\\n",
       "0  12:00:00 AM    10         Tuesday        31          0         4   \n",
       "1  12:15:00 AM    10         Tuesday        49          0         3   \n",
       "2  12:30:00 AM    10         Tuesday        46          0         3   \n",
       "3  12:45:00 AM    10         Tuesday        51          0         2   \n",
       "4   1:00:00 AM    10         Tuesday        57          6        15   \n",
       "\n",
       "   TruckCount  Total Traffic Situation  \n",
       "0           4     39               low  \n",
       "1           3     55               low  \n",
       "2           6     55               low  \n",
       "3           5     58               low  \n",
       "4          16     94            normal  "
      ]
     },
     "execution_count": 215,
     "metadata": {},
     "output_type": "execute_result"
    }
   ],
   "source": [
    "# Cleaned Dataset\n",
    "path=r\"C:\\\\Users\\\\ADMIN\\\\Downloads\\\\Traffic.csv\"\n",
    "df=pd.read_csv(path)     # importing Data\n",
    "df.head()"
   ]
  },
  {
   "cell_type": "code",
   "execution_count": 216,
   "id": "150d8a08",
   "metadata": {},
   "outputs": [
    {
     "name": "stdout",
     "output_type": "stream",
     "text": [
      "<class 'pandas.core.frame.DataFrame'>\n"
     ]
    }
   ],
   "source": [
    "# Type of Dataset\n",
    "print(type(df))"
   ]
  },
  {
   "cell_type": "code",
   "execution_count": 217,
   "id": "5db42422",
   "metadata": {},
   "outputs": [
    {
     "data": {
      "text/plain": [
       "(2976, 9)"
      ]
     },
     "execution_count": 217,
     "metadata": {},
     "output_type": "execute_result"
    }
   ],
   "source": [
    "#shape of Dataset\n",
    "df.shape "
   ]
  },
  {
   "cell_type": "code",
   "execution_count": null,
   "id": "5f721a49",
   "metadata": {},
   "outputs": [],
   "source": []
  },
  {
   "cell_type": "code",
   "execution_count": 218,
   "id": "58cec1e6",
   "metadata": {},
   "outputs": [
    {
     "data": {
      "text/html": [
       "<div>\n",
       "<style scoped>\n",
       "    .dataframe tbody tr th:only-of-type {\n",
       "        vertical-align: middle;\n",
       "    }\n",
       "\n",
       "    .dataframe tbody tr th {\n",
       "        vertical-align: top;\n",
       "    }\n",
       "\n",
       "    .dataframe thead th {\n",
       "        text-align: right;\n",
       "    }\n",
       "</style>\n",
       "<table border=\"1\" class=\"dataframe\">\n",
       "  <thead>\n",
       "    <tr style=\"text-align: right;\">\n",
       "      <th></th>\n",
       "      <th>Time</th>\n",
       "      <th>Date</th>\n",
       "      <th>Day of the week</th>\n",
       "      <th>CarCount</th>\n",
       "      <th>BikeCount</th>\n",
       "      <th>BusCount</th>\n",
       "      <th>TruckCount</th>\n",
       "      <th>Total</th>\n",
       "      <th>Traffic Situation</th>\n",
       "    </tr>\n",
       "  </thead>\n",
       "  <tbody>\n",
       "    <tr>\n",
       "      <th>0</th>\n",
       "      <td>12:00:00 AM</td>\n",
       "      <td>10</td>\n",
       "      <td>Tuesday</td>\n",
       "      <td>31</td>\n",
       "      <td>0</td>\n",
       "      <td>4</td>\n",
       "      <td>4</td>\n",
       "      <td>39</td>\n",
       "      <td>low</td>\n",
       "    </tr>\n",
       "    <tr>\n",
       "      <th>1</th>\n",
       "      <td>12:15:00 AM</td>\n",
       "      <td>10</td>\n",
       "      <td>Tuesday</td>\n",
       "      <td>49</td>\n",
       "      <td>0</td>\n",
       "      <td>3</td>\n",
       "      <td>3</td>\n",
       "      <td>55</td>\n",
       "      <td>low</td>\n",
       "    </tr>\n",
       "    <tr>\n",
       "      <th>2</th>\n",
       "      <td>12:30:00 AM</td>\n",
       "      <td>10</td>\n",
       "      <td>Tuesday</td>\n",
       "      <td>46</td>\n",
       "      <td>0</td>\n",
       "      <td>3</td>\n",
       "      <td>6</td>\n",
       "      <td>55</td>\n",
       "      <td>low</td>\n",
       "    </tr>\n",
       "    <tr>\n",
       "      <th>3</th>\n",
       "      <td>12:45:00 AM</td>\n",
       "      <td>10</td>\n",
       "      <td>Tuesday</td>\n",
       "      <td>51</td>\n",
       "      <td>0</td>\n",
       "      <td>2</td>\n",
       "      <td>5</td>\n",
       "      <td>58</td>\n",
       "      <td>low</td>\n",
       "    </tr>\n",
       "    <tr>\n",
       "      <th>4</th>\n",
       "      <td>1:00:00 AM</td>\n",
       "      <td>10</td>\n",
       "      <td>Tuesday</td>\n",
       "      <td>57</td>\n",
       "      <td>6</td>\n",
       "      <td>15</td>\n",
       "      <td>16</td>\n",
       "      <td>94</td>\n",
       "      <td>normal</td>\n",
       "    </tr>\n",
       "    <tr>\n",
       "      <th>...</th>\n",
       "      <td>...</td>\n",
       "      <td>...</td>\n",
       "      <td>...</td>\n",
       "      <td>...</td>\n",
       "      <td>...</td>\n",
       "      <td>...</td>\n",
       "      <td>...</td>\n",
       "      <td>...</td>\n",
       "      <td>...</td>\n",
       "    </tr>\n",
       "    <tr>\n",
       "      <th>2971</th>\n",
       "      <td>10:45:00 PM</td>\n",
       "      <td>9</td>\n",
       "      <td>Thursday</td>\n",
       "      <td>16</td>\n",
       "      <td>3</td>\n",
       "      <td>1</td>\n",
       "      <td>36</td>\n",
       "      <td>56</td>\n",
       "      <td>normal</td>\n",
       "    </tr>\n",
       "    <tr>\n",
       "      <th>2972</th>\n",
       "      <td>11:00:00 PM</td>\n",
       "      <td>9</td>\n",
       "      <td>Thursday</td>\n",
       "      <td>11</td>\n",
       "      <td>0</td>\n",
       "      <td>1</td>\n",
       "      <td>30</td>\n",
       "      <td>42</td>\n",
       "      <td>normal</td>\n",
       "    </tr>\n",
       "    <tr>\n",
       "      <th>2973</th>\n",
       "      <td>11:15:00 PM</td>\n",
       "      <td>9</td>\n",
       "      <td>Thursday</td>\n",
       "      <td>15</td>\n",
       "      <td>4</td>\n",
       "      <td>1</td>\n",
       "      <td>25</td>\n",
       "      <td>45</td>\n",
       "      <td>normal</td>\n",
       "    </tr>\n",
       "    <tr>\n",
       "      <th>2974</th>\n",
       "      <td>11:30:00 PM</td>\n",
       "      <td>9</td>\n",
       "      <td>Thursday</td>\n",
       "      <td>16</td>\n",
       "      <td>5</td>\n",
       "      <td>0</td>\n",
       "      <td>27</td>\n",
       "      <td>48</td>\n",
       "      <td>normal</td>\n",
       "    </tr>\n",
       "    <tr>\n",
       "      <th>2975</th>\n",
       "      <td>11:45:00 PM</td>\n",
       "      <td>9</td>\n",
       "      <td>Thursday</td>\n",
       "      <td>14</td>\n",
       "      <td>3</td>\n",
       "      <td>1</td>\n",
       "      <td>15</td>\n",
       "      <td>33</td>\n",
       "      <td>normal</td>\n",
       "    </tr>\n",
       "  </tbody>\n",
       "</table>\n",
       "<p>2976 rows × 9 columns</p>\n",
       "</div>"
      ],
      "text/plain": [
       "             Time  Date Day of the week  CarCount  BikeCount  BusCount  \\\n",
       "0     12:00:00 AM    10         Tuesday        31          0         4   \n",
       "1     12:15:00 AM    10         Tuesday        49          0         3   \n",
       "2     12:30:00 AM    10         Tuesday        46          0         3   \n",
       "3     12:45:00 AM    10         Tuesday        51          0         2   \n",
       "4      1:00:00 AM    10         Tuesday        57          6        15   \n",
       "...           ...   ...             ...       ...        ...       ...   \n",
       "2971  10:45:00 PM     9        Thursday        16          3         1   \n",
       "2972  11:00:00 PM     9        Thursday        11          0         1   \n",
       "2973  11:15:00 PM     9        Thursday        15          4         1   \n",
       "2974  11:30:00 PM     9        Thursday        16          5         0   \n",
       "2975  11:45:00 PM     9        Thursday        14          3         1   \n",
       "\n",
       "      TruckCount  Total Traffic Situation  \n",
       "0              4     39               low  \n",
       "1              3     55               low  \n",
       "2              6     55               low  \n",
       "3              5     58               low  \n",
       "4             16     94            normal  \n",
       "...          ...    ...               ...  \n",
       "2971          36     56            normal  \n",
       "2972          30     42            normal  \n",
       "2973          25     45            normal  \n",
       "2974          27     48            normal  \n",
       "2975          15     33            normal  \n",
       "\n",
       "[2976 rows x 9 columns]"
      ]
     },
     "execution_count": 218,
     "metadata": {},
     "output_type": "execute_result"
    }
   ],
   "source": [
    "\n",
    "\n",
    "df"
   ]
  },
  {
   "cell_type": "code",
   "execution_count": null,
   "id": "8a917252",
   "metadata": {},
   "outputs": [],
   "source": []
  },
  {
   "cell_type": "code",
   "execution_count": 219,
   "id": "ab44d526",
   "metadata": {},
   "outputs": [
    {
     "data": {
      "text/plain": [
       "Index(['Time', 'Date', 'Day of the week', 'CarCount', 'BikeCount', 'BusCount',\n",
       "       'TruckCount', 'Total', 'Traffic Situation'],\n",
       "      dtype='object')"
      ]
     },
     "execution_count": 219,
     "metadata": {},
     "output_type": "execute_result"
    }
   ],
   "source": [
    "# columns in Dataset\n",
    "df.columns "
   ]
  },
  {
   "cell_type": "code",
   "execution_count": 220,
   "id": "2757c821",
   "metadata": {},
   "outputs": [
    {
     "name": "stdout",
     "output_type": "stream",
     "text": [
      "<class 'pandas.core.frame.DataFrame'>\n",
      "RangeIndex: 2976 entries, 0 to 2975\n",
      "Data columns (total 9 columns):\n",
      " #   Column             Non-Null Count  Dtype \n",
      "---  ------             --------------  ----- \n",
      " 0   Time               2976 non-null   object\n",
      " 1   Date               2976 non-null   int64 \n",
      " 2   Day of the week    2976 non-null   object\n",
      " 3   CarCount           2976 non-null   int64 \n",
      " 4   BikeCount          2976 non-null   int64 \n",
      " 5   BusCount           2976 non-null   int64 \n",
      " 6   TruckCount         2976 non-null   int64 \n",
      " 7   Total              2976 non-null   int64 \n",
      " 8   Traffic Situation  2976 non-null   object\n",
      "dtypes: int64(6), object(3)\n",
      "memory usage: 209.4+ KB\n"
     ]
    }
   ],
   "source": [
    "# Information about Dataset\n",
    "df.info() "
   ]
  },
  {
   "cell_type": "code",
   "execution_count": 221,
   "id": "8b3e42f2",
   "metadata": {},
   "outputs": [
    {
     "data": {
      "text/plain": [
       "Time                 0\n",
       "Date                 0\n",
       "Day of the week      0\n",
       "CarCount             0\n",
       "BikeCount            0\n",
       "BusCount             0\n",
       "TruckCount           0\n",
       "Total                0\n",
       "Traffic Situation    0\n",
       "dtype: int64"
      ]
     },
     "execution_count": 221,
     "metadata": {},
     "output_type": "execute_result"
    }
   ],
   "source": [
    "#checking null values in Dataset\n",
    "df.isnull().sum()  "
   ]
  },
  {
   "cell_type": "code",
   "execution_count": null,
   "id": "aba98249",
   "metadata": {},
   "outputs": [],
   "source": []
  },
  {
   "cell_type": "markdown",
   "id": "a17c97d9",
   "metadata": {},
   "source": [
    "# Univariate analysis(numerical columns)"
   ]
  },
  {
   "cell_type": "code",
   "execution_count": 222,
   "id": "a1f4cef8",
   "metadata": {
    "scrolled": false
   },
   "outputs": [
    {
     "data": {
      "image/png": "[encoded data removed]",
      "text/plain": [
       "<Figure size 640x480 with 1 Axes>"
      ]
     },
     "metadata": {},
     "output_type": "display_data"
    },
    {
     "data": {
      "image/png": "[encoded data removed]",
      "text/plain": [
       "<Figure size 640x480 with 1 Axes>"
      ]
     },
     "metadata": {},
     "output_type": "display_data"
    },
    {
     "data": {
      "image/png": "[encoded data removed]",
      "text/plain": [
       "<Figure size 640x480 with 1 Axes>"
      ]
     },
     "metadata": {},
     "output_type": "display_data"
    },
    {
     "data": {
      "image/png": "[encoded data removed]",
      "text/plain": [
       "<Figure size 640x480 with 1 Axes>"
      ]
     },
     "metadata": {},
     "output_type": "display_data"
    },
    {
     "data": {
      "image/png": "[encoded data removed]",
      "text/plain": [
       "<Figure size 640x480 with 1 Axes>"
      ]
     },
     "metadata": {},
     "output_type": "display_data"
    },
    {
     "data": {
      "image/png": "[encoded data removed]",
      "text/plain": [
       "<Figure size 640x480 with 1 Axes>"
      ]
     },
     "metadata": {},
     "output_type": "display_data"
    }
   ],
   "source": [
    "def plot_box(df):\n",
    "    for column in df.columns:\n",
    "        if df[column].dtype == np.int64 :\n",
    "                plot_box = df.boxplot( column=column)\n",
    "                plt.title(f\"{column}\")\n",
    "                plt.show()\n",
    "plot_box(df)"
   ]
  },
  {
   "cell_type": "code",
   "execution_count": 223,
   "id": "7360b971",
   "metadata": {},
   "outputs": [
    {
     "name": "stdout",
     "output_type": "stream",
     "text": [
      "(2899, 9)\n",
      "(2976, 9)\n"
     ]
    }
   ],
   "source": [
    "# Removing of outliers by using IQR method\n",
    "q1=df['BikeCount'].quantile(0.25)\n",
    "q3=df['BikeCount'].quantile(0.75)\n",
    "IQR=q3-q1\n",
    "BikeCount_lower_bound=q1-1.5*IQR\n",
    "BikeCount_upper_bound=q3+1.5*IQR\n",
    "clean_df=df[(df['BikeCount']>BikeCount_lower_bound)&(df['BikeCount']<BikeCount_upper_bound)]\n",
    "print(clean_df.shape)\n",
    "print(df.shape)\n"
   ]
  },
  {
   "cell_type": "code",
   "execution_count": 224,
   "id": "86856141",
   "metadata": {
    "scrolled": false
   },
   "outputs": [
    {
     "data": {
      "image/png": "[encoded data removed]",
      "text/plain": [
       "<Figure size 640x480 with 1 Axes>"
      ]
     },
     "metadata": {},
     "output_type": "display_data"
    },
    {
     "data": {
      "image/png": "[encoded data removed]",
      "text/plain": [
       "<Figure size 640x480 with 1 Axes>"
      ]
     },
     "metadata": {},
     "output_type": "display_data"
    },
    {
     "data": {
      "image/png": "[encoded data removed]",
      "text/plain": [
       "<Figure size 640x480 with 1 Axes>"
      ]
     },
     "metadata": {},
     "output_type": "display_data"
    },
    {
     "data": {
      "image/png": "[encoded data removed]",
      "text/plain": [
       "<Figure size 640x480 with 1 Axes>"
      ]
     },
     "metadata": {},
     "output_type": "display_data"
    },
    {
     "data": {
      "image/png": "[encoded data removed]",
      "text/plain": [
       "<Figure size 640x480 with 1 Axes>"
      ]
     },
     "metadata": {},
     "output_type": "display_data"
    },
    {
     "data": {
      "image/png": "[encoded data removed]",
      "text/plain": [
       "<Figure size 640x480 with 1 Axes>"
      ]
     },
     "metadata": {},
     "output_type": "display_data"
    }
   ],
   "source": [
    "\n",
    "def plot_box(clean_df):\n",
    "    for column in clean_df.columns:\n",
    "        if clean_df[column].dtype == np.int64 or clean_df[column].dtype == np.int32:\n",
    "                plot_box = clean_df.boxplot( column=column)\n",
    "                plt.title(f\"{column}\")\n",
    "                plt.show()\n",
    "plot_box(clean_df)"
   ]
  },
  {
   "cell_type": "code",
   "execution_count": 225,
   "id": "15dcb17b",
   "metadata": {},
   "outputs": [
    {
     "data": {
      "text/html": [
       "<div>\n",
       "<style scoped>\n",
       "    .dataframe tbody tr th:only-of-type {\n",
       "        vertical-align: middle;\n",
       "    }\n",
       "\n",
       "    .dataframe tbody tr th {\n",
       "        vertical-align: top;\n",
       "    }\n",
       "\n",
       "    .dataframe thead th {\n",
       "        text-align: right;\n",
       "    }\n",
       "</style>\n",
       "<table border=\"1\" class=\"dataframe\">\n",
       "  <thead>\n",
       "    <tr style=\"text-align: right;\">\n",
       "      <th></th>\n",
       "      <th>Time</th>\n",
       "      <th>Date</th>\n",
       "      <th>Day of the week</th>\n",
       "      <th>CarCount</th>\n",
       "      <th>BikeCount</th>\n",
       "      <th>BusCount</th>\n",
       "      <th>TruckCount</th>\n",
       "      <th>Total</th>\n",
       "      <th>Traffic Situation</th>\n",
       "    </tr>\n",
       "  </thead>\n",
       "  <tbody>\n",
       "    <tr>\n",
       "      <th>0</th>\n",
       "      <td>12:00:00 AM</td>\n",
       "      <td>10</td>\n",
       "      <td>Tuesday</td>\n",
       "      <td>31</td>\n",
       "      <td>0</td>\n",
       "      <td>4</td>\n",
       "      <td>4</td>\n",
       "      <td>39</td>\n",
       "      <td>low</td>\n",
       "    </tr>\n",
       "    <tr>\n",
       "      <th>1</th>\n",
       "      <td>12:15:00 AM</td>\n",
       "      <td>10</td>\n",
       "      <td>Tuesday</td>\n",
       "      <td>49</td>\n",
       "      <td>0</td>\n",
       "      <td>3</td>\n",
       "      <td>3</td>\n",
       "      <td>55</td>\n",
       "      <td>low</td>\n",
       "    </tr>\n",
       "    <tr>\n",
       "      <th>2</th>\n",
       "      <td>12:30:00 AM</td>\n",
       "      <td>10</td>\n",
       "      <td>Tuesday</td>\n",
       "      <td>46</td>\n",
       "      <td>0</td>\n",
       "      <td>3</td>\n",
       "      <td>6</td>\n",
       "      <td>55</td>\n",
       "      <td>low</td>\n",
       "    </tr>\n",
       "    <tr>\n",
       "      <th>3</th>\n",
       "      <td>12:45:00 AM</td>\n",
       "      <td>10</td>\n",
       "      <td>Tuesday</td>\n",
       "      <td>51</td>\n",
       "      <td>0</td>\n",
       "      <td>2</td>\n",
       "      <td>5</td>\n",
       "      <td>58</td>\n",
       "      <td>low</td>\n",
       "    </tr>\n",
       "    <tr>\n",
       "      <th>4</th>\n",
       "      <td>1:00:00 AM</td>\n",
       "      <td>10</td>\n",
       "      <td>Tuesday</td>\n",
       "      <td>57</td>\n",
       "      <td>6</td>\n",
       "      <td>15</td>\n",
       "      <td>16</td>\n",
       "      <td>94</td>\n",
       "      <td>normal</td>\n",
       "    </tr>\n",
       "    <tr>\n",
       "      <th>...</th>\n",
       "      <td>...</td>\n",
       "      <td>...</td>\n",
       "      <td>...</td>\n",
       "      <td>...</td>\n",
       "      <td>...</td>\n",
       "      <td>...</td>\n",
       "      <td>...</td>\n",
       "      <td>...</td>\n",
       "      <td>...</td>\n",
       "    </tr>\n",
       "    <tr>\n",
       "      <th>2971</th>\n",
       "      <td>10:45:00 PM</td>\n",
       "      <td>9</td>\n",
       "      <td>Thursday</td>\n",
       "      <td>16</td>\n",
       "      <td>3</td>\n",
       "      <td>1</td>\n",
       "      <td>36</td>\n",
       "      <td>56</td>\n",
       "      <td>normal</td>\n",
       "    </tr>\n",
       "    <tr>\n",
       "      <th>2972</th>\n",
       "      <td>11:00:00 PM</td>\n",
       "      <td>9</td>\n",
       "      <td>Thursday</td>\n",
       "      <td>11</td>\n",
       "      <td>0</td>\n",
       "      <td>1</td>\n",
       "      <td>30</td>\n",
       "      <td>42</td>\n",
       "      <td>normal</td>\n",
       "    </tr>\n",
       "    <tr>\n",
       "      <th>2973</th>\n",
       "      <td>11:15:00 PM</td>\n",
       "      <td>9</td>\n",
       "      <td>Thursday</td>\n",
       "      <td>15</td>\n",
       "      <td>4</td>\n",
       "      <td>1</td>\n",
       "      <td>25</td>\n",
       "      <td>45</td>\n",
       "      <td>normal</td>\n",
       "    </tr>\n",
       "    <tr>\n",
       "      <th>2974</th>\n",
       "      <td>11:30:00 PM</td>\n",
       "      <td>9</td>\n",
       "      <td>Thursday</td>\n",
       "      <td>16</td>\n",
       "      <td>5</td>\n",
       "      <td>0</td>\n",
       "      <td>27</td>\n",
       "      <td>48</td>\n",
       "      <td>normal</td>\n",
       "    </tr>\n",
       "    <tr>\n",
       "      <th>2975</th>\n",
       "      <td>11:45:00 PM</td>\n",
       "      <td>9</td>\n",
       "      <td>Thursday</td>\n",
       "      <td>14</td>\n",
       "      <td>3</td>\n",
       "      <td>1</td>\n",
       "      <td>15</td>\n",
       "      <td>33</td>\n",
       "      <td>normal</td>\n",
       "    </tr>\n",
       "  </tbody>\n",
       "</table>\n",
       "<p>2899 rows × 9 columns</p>\n",
       "</div>"
      ],
      "text/plain": [
       "             Time  Date Day of the week  CarCount  BikeCount  BusCount  \\\n",
       "0     12:00:00 AM    10         Tuesday        31          0         4   \n",
       "1     12:15:00 AM    10         Tuesday        49          0         3   \n",
       "2     12:30:00 AM    10         Tuesday        46          0         3   \n",
       "3     12:45:00 AM    10         Tuesday        51          0         2   \n",
       "4      1:00:00 AM    10         Tuesday        57          6        15   \n",
       "...           ...   ...             ...       ...        ...       ...   \n",
       "2971  10:45:00 PM     9        Thursday        16          3         1   \n",
       "2972  11:00:00 PM     9        Thursday        11          0         1   \n",
       "2973  11:15:00 PM     9        Thursday        15          4         1   \n",
       "2974  11:30:00 PM     9        Thursday        16          5         0   \n",
       "2975  11:45:00 PM     9        Thursday        14          3         1   \n",
       "\n",
       "      TruckCount  Total Traffic Situation  \n",
       "0              4     39               low  \n",
       "1              3     55               low  \n",
       "2              6     55               low  \n",
       "3              5     58               low  \n",
       "4             16     94            normal  \n",
       "...          ...    ...               ...  \n",
       "2971          36     56            normal  \n",
       "2972          30     42            normal  \n",
       "2973          25     45            normal  \n",
       "2974          27     48            normal  \n",
       "2975          15     33            normal  \n",
       "\n",
       "[2899 rows x 9 columns]"
      ]
     },
     "execution_count": 225,
     "metadata": {},
     "output_type": "execute_result"
    }
   ],
   "source": [
    "clean_df"
   ]
  },
  {
   "cell_type": "markdown",
   "id": "5ef5a6d9",
   "metadata": {},
   "source": [
    "# Univariate analysis(Categorical column)"
   ]
  },
  {
   "cell_type": "code",
   "execution_count": 226,
   "id": "8873f611",
   "metadata": {},
   "outputs": [
    {
     "name": "stdout",
     "output_type": "stream",
     "text": [
      "No need to plot for \"Time\" column.\n"
     ]
    },
    {
     "data": {
      "image/png": "[encoded data removed]",
      "text/plain": [
       "<Figure size 640x480 with 1 Axes>"
      ]
     },
     "metadata": {},
     "output_type": "display_data"
    },
    {
     "data": {
      "image/png": "[encoded data removed]",
      "text/plain": [
       "<Figure size 640x480 with 1 Axes>"
      ]
     },
     "metadata": {},
     "output_type": "display_data"
    }
   ],
   "source": [
    "def plot_bar(clean_df):\n",
    "    for column in clean_df.columns:\n",
    "        if clean_df[column].dtype == object:\n",
    "            if column == 'Time':\n",
    "                print('No need to plot for \"Time\" column.')   \n",
    "            else:\n",
    "                counts = clean_df[column].value_counts()\n",
    "                counts.plot(kind='bar')\n",
    "                plt.title(column)\n",
    "                plt.show()\n",
    "plot_bar(clean_df)"
   ]
  },
  {
   "cell_type": "code",
   "execution_count": 227,
   "id": "72c6b513",
   "metadata": {},
   "outputs": [
    {
     "name": "stdout",
     "output_type": "stream",
     "text": [
      "<class 'pandas.core.frame.DataFrame'>\n",
      "RangeIndex: 2976 entries, 0 to 2975\n",
      "Data columns (total 9 columns):\n",
      " #   Column             Non-Null Count  Dtype \n",
      "---  ------             --------------  ----- \n",
      " 0   Time               2976 non-null   object\n",
      " 1   Date               2976 non-null   int64 \n",
      " 2   Day of the week    2976 non-null   object\n",
      " 3   CarCount           2976 non-null   int64 \n",
      " 4   BikeCount          2976 non-null   int64 \n",
      " 5   BusCount           2976 non-null   int64 \n",
      " 6   TruckCount         2976 non-null   int64 \n",
      " 7   Total              2976 non-null   int64 \n",
      " 8   Traffic Situation  2976 non-null   object\n",
      "dtypes: int64(6), object(3)\n",
      "memory usage: 209.4+ KB\n"
     ]
    }
   ],
   "source": [
    "df.info()"
   ]
  },
  {
   "cell_type": "markdown",
   "id": "40ca3972",
   "metadata": {},
   "source": [
    "# Bivariate analysis(cat vs num)"
   ]
  },
  {
   "cell_type": "code",
   "execution_count": 228,
   "id": "79863c9b",
   "metadata": {
    "scrolled": false
   },
   "outputs": [
    {
     "data": {
      "image/png": "[encoded data removed]",
      "text/plain": [
       "<Figure size 640x480 with 1 Axes>"
      ]
     },
     "metadata": {},
     "output_type": "display_data"
    },
    {
     "data": {
      "image/png": "[encoded data removed]",
      "text/plain": [
       "<Figure size 640x480 with 1 Axes>"
      ]
     },
     "metadata": {},
     "output_type": "display_data"
    },
    {
     "data": {
      "image/png": "[encoded data removed]",
      "text/plain": [
       "<Figure size 640x480 with 1 Axes>"
      ]
     },
     "metadata": {},
     "output_type": "display_data"
    },
    {
     "data": {
      "image/png": "[encoded data removed]",
      "text/plain": [
       "<Figure size 640x480 with 1 Axes>"
      ]
     },
     "metadata": {},
     "output_type": "display_data"
    },
    {
     "data": {
      "image/png": "[encoded data removed]",
      "text/plain": [
       "<Figure size 640x480 with 1 Axes>"
      ]
     },
     "metadata": {},
     "output_type": "display_data"
    },
    {
     "data": {
      "image/png": "[encoded data removed]",
      "text/plain": [
       "<Figure size 640x480 with 1 Axes>"
      ]
     },
     "metadata": {},
     "output_type": "display_data"
    }
   ],
   "source": [
    "def plot_box(clean_df):\n",
    "    a = clean_df[\"Traffic Situation\"]\n",
    "    for column in clean_df.columns:\n",
    "        if clean_df[column].dtype == np.int64 :\n",
    "            if column =='Day of the week':\n",
    "                print('No need to plot')\n",
    "            else:    \n",
    "                plot_box = clean_df.boxplot( by=\"Traffic Situation\",column=column)\n",
    "                plt.title(f\"Traffic Situation vs {column}\")\n",
    "                plt.show()\n",
    "plot_box(clean_df)"
   ]
  },
  {
   "cell_type": "markdown",
   "id": "214a261e",
   "metadata": {},
   "source": [
    "# Bivariate analysis(cat vs cat)"
   ]
  },
  {
   "cell_type": "code",
   "execution_count": 229,
   "id": "79e0dc46",
   "metadata": {},
   "outputs": [
    {
     "name": "stdout",
     "output_type": "stream",
     "text": [
      "No need to plot for \"Time\" column.\n"
     ]
    },
    {
     "data": {
      "image/png": "[encoded data removed]",
      "text/plain": [
       "<Figure size 640x480 with 1 Axes>"
      ]
     },
     "metadata": {},
     "output_type": "display_data"
    },
    {
     "data": {
      "image/png": "[encoded data removed]",
      "text/plain": [
       "<Figure size 640x480 with 1 Axes>"
      ]
     },
     "metadata": {},
     "output_type": "display_data"
    }
   ],
   "source": [
    "def plot_stack(clean_df):\n",
    "    a = clean_df[\"Traffic Situation\"]\n",
    "    for column in clean_df.columns:\n",
    "        if clean_df[column].dtype == object:\n",
    "            if column=='Time':\n",
    "                print('No need to plot for \"Time\" column.')\n",
    "            else:    \n",
    "                plot_stck = pd.crosstab(index=clean_df[column], columns=a)\n",
    "                plot_stck.plot(kind='bar', stacked=True)\n",
    "                plt.title(f\" Traffic Situation vs {column}\")\n",
    "                plt.legend(title=column)\n",
    "                plt.show()\n",
    "plot_stack(clean_df)"
   ]
  },
  {
   "cell_type": "code",
   "execution_count": 230,
   "id": "2d9b2899",
   "metadata": {},
   "outputs": [
    {
     "name": "stdout",
     "output_type": "stream",
     "text": [
      "<class 'pandas.core.frame.DataFrame'>\n",
      "RangeIndex: 2976 entries, 0 to 2975\n",
      "Data columns (total 9 columns):\n",
      " #   Column             Non-Null Count  Dtype \n",
      "---  ------             --------------  ----- \n",
      " 0   Time               2976 non-null   object\n",
      " 1   Date               2976 non-null   int64 \n",
      " 2   Day of the week    2976 non-null   object\n",
      " 3   CarCount           2976 non-null   int64 \n",
      " 4   BikeCount          2976 non-null   int64 \n",
      " 5   BusCount           2976 non-null   int64 \n",
      " 6   TruckCount         2976 non-null   int64 \n",
      " 7   Total              2976 non-null   int64 \n",
      " 8   Traffic Situation  2976 non-null   object\n",
      "dtypes: int64(6), object(3)\n",
      "memory usage: 209.4+ KB\n"
     ]
    }
   ],
   "source": [
    "df.info()"
   ]
  },
  {
   "cell_type": "markdown",
   "id": "8882aede",
   "metadata": {},
   "source": [
    "# Model building"
   ]
  },
  {
   "cell_type": "code",
   "execution_count": 231,
   "id": "ac2ca2a4",
   "metadata": {},
   "outputs": [],
   "source": [
    "y=clean_df[\"Traffic Situation\"]\n",
    "X=clean_df[['Date', 'Day of the week', 'CarCount', 'BikeCount', 'BusCount','TruckCount','Total']]"
   ]
  },
  {
   "cell_type": "code",
   "execution_count": 232,
   "id": "962b105f-78d4-4979-b1f8-0daf094fabfa",
   "metadata": {},
   "outputs": [
    {
     "data": {
      "text/plain": [
       "array(['low', 'normal', 'heavy', 'high'], dtype=object)"
      ]
     },
     "execution_count": 232,
     "metadata": {},
     "output_type": "execute_result"
    }
   ],
   "source": [
    "y.unique()"
   ]
  },
  {
   "cell_type": "code",
   "execution_count": 233,
   "id": "0c4105ee-2784-4b86-9d8d-6341b4137c1f",
   "metadata": {},
   "outputs": [],
   "source": [
    "y = y.map({'low':0,'normal':1,'heavy':2,'high':3})"
   ]
  },
  {
   "cell_type": "code",
   "execution_count": 234,
   "id": "0aaa1780",
   "metadata": {},
   "outputs": [
    {
     "name": "stdout",
     "output_type": "stream",
     "text": [
      "(2174, 7) (2174,)\n",
      "(725, 7) (725,)\n"
     ]
    }
   ],
   "source": [
    "from sklearn.model_selection import train_test_split\n",
    "X_train,X_test,y_train,y_test=train_test_split(X,y,train_size=0.75,random_state=100)\n",
    "print(X_train.shape,y_train.shape)\n",
    "print(X_test.shape,y_test.shape)"
   ]
  },
  {
   "cell_type": "code",
   "execution_count": 235,
   "id": "c0855341",
   "metadata": {},
   "outputs": [
    {
     "data": {
      "text/html": [
       "<div>\n",
       "<style scoped>\n",
       "    .dataframe tbody tr th:only-of-type {\n",
       "        vertical-align: middle;\n",
       "    }\n",
       "\n",
       "    .dataframe tbody tr th {\n",
       "        vertical-align: top;\n",
       "    }\n",
       "\n",
       "    .dataframe thead th {\n",
       "        text-align: right;\n",
       "    }\n",
       "</style>\n",
       "<table border=\"1\" class=\"dataframe\">\n",
       "  <thead>\n",
       "    <tr style=\"text-align: right;\">\n",
       "      <th></th>\n",
       "      <th>Date</th>\n",
       "      <th>Day of the week</th>\n",
       "      <th>CarCount</th>\n",
       "      <th>BikeCount</th>\n",
       "      <th>BusCount</th>\n",
       "      <th>TruckCount</th>\n",
       "      <th>Total</th>\n",
       "    </tr>\n",
       "  </thead>\n",
       "  <tbody>\n",
       "    <tr>\n",
       "      <th>1194</th>\n",
       "      <td>22</td>\n",
       "      <td>Saturday</td>\n",
       "      <td>50</td>\n",
       "      <td>25</td>\n",
       "      <td>25</td>\n",
       "      <td>28</td>\n",
       "      <td>128</td>\n",
       "    </tr>\n",
       "    <tr>\n",
       "      <th>788</th>\n",
       "      <td>18</td>\n",
       "      <td>Wednesday</td>\n",
       "      <td>99</td>\n",
       "      <td>4</td>\n",
       "      <td>7</td>\n",
       "      <td>19</td>\n",
       "      <td>129</td>\n",
       "    </tr>\n",
       "    <tr>\n",
       "      <th>713</th>\n",
       "      <td>17</td>\n",
       "      <td>Tuesday</td>\n",
       "      <td>90</td>\n",
       "      <td>2</td>\n",
       "      <td>15</td>\n",
       "      <td>18</td>\n",
       "      <td>125</td>\n",
       "    </tr>\n",
       "    <tr>\n",
       "      <th>2828</th>\n",
       "      <td>8</td>\n",
       "      <td>Wednesday</td>\n",
       "      <td>36</td>\n",
       "      <td>9</td>\n",
       "      <td>8</td>\n",
       "      <td>28</td>\n",
       "      <td>81</td>\n",
       "    </tr>\n",
       "    <tr>\n",
       "      <th>1926</th>\n",
       "      <td>30</td>\n",
       "      <td>Monday</td>\n",
       "      <td>18</td>\n",
       "      <td>4</td>\n",
       "      <td>0</td>\n",
       "      <td>31</td>\n",
       "      <td>53</td>\n",
       "    </tr>\n",
       "  </tbody>\n",
       "</table>\n",
       "</div>"
      ],
      "text/plain": [
       "      Date Day of the week  CarCount  BikeCount  BusCount  TruckCount  Total\n",
       "1194    22        Saturday        50         25        25          28    128\n",
       "788     18       Wednesday        99          4         7          19    129\n",
       "713     17         Tuesday        90          2        15          18    125\n",
       "2828     8       Wednesday        36          9         8          28     81\n",
       "1926    30          Monday        18          4         0          31     53"
      ]
     },
     "execution_count": 235,
     "metadata": {},
     "output_type": "execute_result"
    }
   ],
   "source": [
    "X_train.head()"
   ]
  },
  {
   "cell_type": "code",
   "execution_count": 236,
   "id": "65c53fe8",
   "metadata": {},
   "outputs": [
    {
     "data": {
      "text/html": [
       "<div>\n",
       "<style scoped>\n",
       "    .dataframe tbody tr th:only-of-type {\n",
       "        vertical-align: middle;\n",
       "    }\n",
       "\n",
       "    .dataframe tbody tr th {\n",
       "        vertical-align: top;\n",
       "    }\n",
       "\n",
       "    .dataframe thead th {\n",
       "        text-align: right;\n",
       "    }\n",
       "</style>\n",
       "<table border=\"1\" class=\"dataframe\">\n",
       "  <thead>\n",
       "    <tr style=\"text-align: right;\">\n",
       "      <th></th>\n",
       "      <th>Day of the week</th>\n",
       "    </tr>\n",
       "  </thead>\n",
       "  <tbody>\n",
       "    <tr>\n",
       "      <th>1194</th>\n",
       "      <td>Saturday</td>\n",
       "    </tr>\n",
       "    <tr>\n",
       "      <th>788</th>\n",
       "      <td>Wednesday</td>\n",
       "    </tr>\n",
       "    <tr>\n",
       "      <th>713</th>\n",
       "      <td>Tuesday</td>\n",
       "    </tr>\n",
       "    <tr>\n",
       "      <th>2828</th>\n",
       "      <td>Wednesday</td>\n",
       "    </tr>\n",
       "    <tr>\n",
       "      <th>1926</th>\n",
       "      <td>Monday</td>\n",
       "    </tr>\n",
       "  </tbody>\n",
       "</table>\n",
       "</div>"
      ],
      "text/plain": [
       "     Day of the week\n",
       "1194        Saturday\n",
       "788        Wednesday\n",
       "713          Tuesday\n",
       "2828       Wednesday\n",
       "1926          Monday"
      ]
     },
     "execution_count": 236,
     "metadata": {},
     "output_type": "execute_result"
    }
   ],
   "source": [
    "X_train_cat=X_train.select_dtypes(include=['object'])\n",
    "X_train_cat.head()"
   ]
  },
  {
   "cell_type": "code",
   "execution_count": 237,
   "id": "c2041e14",
   "metadata": {},
   "outputs": [
    {
     "data": {
      "text/html": [
       "<div>\n",
       "<style scoped>\n",
       "    .dataframe tbody tr th:only-of-type {\n",
       "        vertical-align: middle;\n",
       "    }\n",
       "\n",
       "    .dataframe tbody tr th {\n",
       "        vertical-align: top;\n",
       "    }\n",
       "\n",
       "    .dataframe thead th {\n",
       "        text-align: right;\n",
       "    }\n",
       "</style>\n",
       "<table border=\"1\" class=\"dataframe\">\n",
       "  <thead>\n",
       "    <tr style=\"text-align: right;\">\n",
       "      <th></th>\n",
       "      <th>Date</th>\n",
       "      <th>CarCount</th>\n",
       "      <th>BikeCount</th>\n",
       "      <th>BusCount</th>\n",
       "      <th>TruckCount</th>\n",
       "      <th>Total</th>\n",
       "    </tr>\n",
       "  </thead>\n",
       "  <tbody>\n",
       "    <tr>\n",
       "      <th>1194</th>\n",
       "      <td>22</td>\n",
       "      <td>50</td>\n",
       "      <td>25</td>\n",
       "      <td>25</td>\n",
       "      <td>28</td>\n",
       "      <td>128</td>\n",
       "    </tr>\n",
       "    <tr>\n",
       "      <th>788</th>\n",
       "      <td>18</td>\n",
       "      <td>99</td>\n",
       "      <td>4</td>\n",
       "      <td>7</td>\n",
       "      <td>19</td>\n",
       "      <td>129</td>\n",
       "    </tr>\n",
       "    <tr>\n",
       "      <th>713</th>\n",
       "      <td>17</td>\n",
       "      <td>90</td>\n",
       "      <td>2</td>\n",
       "      <td>15</td>\n",
       "      <td>18</td>\n",
       "      <td>125</td>\n",
       "    </tr>\n",
       "    <tr>\n",
       "      <th>2828</th>\n",
       "      <td>8</td>\n",
       "      <td>36</td>\n",
       "      <td>9</td>\n",
       "      <td>8</td>\n",
       "      <td>28</td>\n",
       "      <td>81</td>\n",
       "    </tr>\n",
       "    <tr>\n",
       "      <th>1926</th>\n",
       "      <td>30</td>\n",
       "      <td>18</td>\n",
       "      <td>4</td>\n",
       "      <td>0</td>\n",
       "      <td>31</td>\n",
       "      <td>53</td>\n",
       "    </tr>\n",
       "  </tbody>\n",
       "</table>\n",
       "</div>"
      ],
      "text/plain": [
       "      Date  CarCount  BikeCount  BusCount  TruckCount  Total\n",
       "1194    22        50         25        25          28    128\n",
       "788     18        99          4         7          19    129\n",
       "713     17        90          2        15          18    125\n",
       "2828     8        36          9         8          28     81\n",
       "1926    30        18          4         0          31     53"
      ]
     },
     "execution_count": 237,
     "metadata": {},
     "output_type": "execute_result"
    }
   ],
   "source": [
    "X_train_num=X_train.select_dtypes(include=['int64','int32'])\n",
    "X_train_num.head()"
   ]
  },
  {
   "cell_type": "markdown",
   "id": "e5647781",
   "metadata": {},
   "source": [
    "# Data preparation on train data:"
   ]
  },
  {
   "cell_type": "code",
   "execution_count": 238,
   "id": "70df8651",
   "metadata": {},
   "outputs": [
    {
     "data": {
      "text/html": [
       "<div>\n",
       "<style scoped>\n",
       "    .dataframe tbody tr th:only-of-type {\n",
       "        vertical-align: middle;\n",
       "    }\n",
       "\n",
       "    .dataframe tbody tr th {\n",
       "        vertical-align: top;\n",
       "    }\n",
       "\n",
       "    .dataframe thead th {\n",
       "        text-align: right;\n",
       "    }\n",
       "</style>\n",
       "<table border=\"1\" class=\"dataframe\">\n",
       "  <thead>\n",
       "    <tr style=\"text-align: right;\">\n",
       "      <th></th>\n",
       "      <th>Date</th>\n",
       "      <th>CarCount</th>\n",
       "      <th>BikeCount</th>\n",
       "      <th>BusCount</th>\n",
       "      <th>TruckCount</th>\n",
       "      <th>Total</th>\n",
       "    </tr>\n",
       "  </thead>\n",
       "  <tbody>\n",
       "    <tr>\n",
       "      <th>1194</th>\n",
       "      <td>0.650084</td>\n",
       "      <td>-0.358387</td>\n",
       "      <td>1.054766</td>\n",
       "      <td>0.683377</td>\n",
       "      <td>1.161774</td>\n",
       "      <td>0.304897</td>\n",
       "    </tr>\n",
       "    <tr>\n",
       "      <th>788</th>\n",
       "      <td>0.207257</td>\n",
       "      <td>0.754239</td>\n",
       "      <td>-0.909833</td>\n",
       "      <td>-0.562635</td>\n",
       "      <td>0.300088</td>\n",
       "      <td>0.322322</td>\n",
       "    </tr>\n",
       "    <tr>\n",
       "      <th>713</th>\n",
       "      <td>0.096550</td>\n",
       "      <td>0.549879</td>\n",
       "      <td>-1.096938</td>\n",
       "      <td>-0.008852</td>\n",
       "      <td>0.204345</td>\n",
       "      <td>0.252622</td>\n",
       "    </tr>\n",
       "    <tr>\n",
       "      <th>2828</th>\n",
       "      <td>-0.899811</td>\n",
       "      <td>-0.676280</td>\n",
       "      <td>-0.442072</td>\n",
       "      <td>-0.493412</td>\n",
       "      <td>1.161774</td>\n",
       "      <td>-0.514077</td>\n",
       "    </tr>\n",
       "    <tr>\n",
       "      <th>1926</th>\n",
       "      <td>1.535739</td>\n",
       "      <td>-1.085000</td>\n",
       "      <td>-0.909833</td>\n",
       "      <td>-1.047196</td>\n",
       "      <td>1.449003</td>\n",
       "      <td>-1.001976</td>\n",
       "    </tr>\n",
       "  </tbody>\n",
       "</table>\n",
       "</div>"
      ],
      "text/plain": [
       "          Date  CarCount  BikeCount  BusCount  TruckCount     Total\n",
       "1194  0.650084 -0.358387   1.054766  0.683377    1.161774  0.304897\n",
       "788   0.207257  0.754239  -0.909833 -0.562635    0.300088  0.322322\n",
       "713   0.096550  0.549879  -1.096938 -0.008852    0.204345  0.252622\n",
       "2828 -0.899811 -0.676280  -0.442072 -0.493412    1.161774 -0.514077\n",
       "1926  1.535739 -1.085000  -0.909833 -1.047196    1.449003 -1.001976"
      ]
     },
     "execution_count": 238,
     "metadata": {},
     "output_type": "execute_result"
    }
   ],
   "source": [
    "from sklearn.preprocessing import StandardScaler\n",
    "Scaler=StandardScaler()\n",
    "x_train_num_rescaled=pd.DataFrame(Scaler.fit_transform(X_train_num),\n",
    "                                 columns=X_train_num.columns,\n",
    "                                 index=X_train_num.index)\n",
    "x_train_num_rescaled.head()\n"
   ]
  },
  {
   "cell_type": "code",
   "execution_count": 239,
   "id": "9f0f679d",
   "metadata": {},
   "outputs": [
    {
     "data": {
      "text/html": [
       "<div>\n",
       "<style scoped>\n",
       "    .dataframe tbody tr th:only-of-type {\n",
       "        vertical-align: middle;\n",
       "    }\n",
       "\n",
       "    .dataframe tbody tr th {\n",
       "        vertical-align: top;\n",
       "    }\n",
       "\n",
       "    .dataframe thead th {\n",
       "        text-align: right;\n",
       "    }\n",
       "</style>\n",
       "<table border=\"1\" class=\"dataframe\">\n",
       "  <thead>\n",
       "    <tr style=\"text-align: right;\">\n",
       "      <th></th>\n",
       "      <th>Date</th>\n",
       "      <th>CarCount</th>\n",
       "      <th>BikeCount</th>\n",
       "      <th>BusCount</th>\n",
       "      <th>TruckCount</th>\n",
       "      <th>Total</th>\n",
       "    </tr>\n",
       "  </thead>\n",
       "  <tbody>\n",
       "    <tr>\n",
       "      <th>count</th>\n",
       "      <td>2174.000000</td>\n",
       "      <td>2174.000000</td>\n",
       "      <td>2174.000000</td>\n",
       "      <td>2174.000000</td>\n",
       "      <td>2174.000000</td>\n",
       "      <td>2174.000000</td>\n",
       "    </tr>\n",
       "    <tr>\n",
       "      <th>mean</th>\n",
       "      <td>16.127875</td>\n",
       "      <td>65.783349</td>\n",
       "      <td>13.725391</td>\n",
       "      <td>15.127875</td>\n",
       "      <td>15.865685</td>\n",
       "      <td>110.502300</td>\n",
       "    </tr>\n",
       "    <tr>\n",
       "      <th>std</th>\n",
       "      <td>9.034944</td>\n",
       "      <td>44.050096</td>\n",
       "      <td>10.691659</td>\n",
       "      <td>14.449405</td>\n",
       "      <td>10.447044</td>\n",
       "      <td>57.402101</td>\n",
       "    </tr>\n",
       "    <tr>\n",
       "      <th>min</th>\n",
       "      <td>1.000000</td>\n",
       "      <td>6.000000</td>\n",
       "      <td>0.000000</td>\n",
       "      <td>0.000000</td>\n",
       "      <td>0.000000</td>\n",
       "      <td>22.000000</td>\n",
       "    </tr>\n",
       "    <tr>\n",
       "      <th>25%</th>\n",
       "      <td>8.000000</td>\n",
       "      <td>19.000000</td>\n",
       "      <td>4.000000</td>\n",
       "      <td>1.000000</td>\n",
       "      <td>7.000000</td>\n",
       "      <td>54.000000</td>\n",
       "    </tr>\n",
       "    <tr>\n",
       "      <th>50%</th>\n",
       "      <td>16.000000</td>\n",
       "      <td>61.000000</td>\n",
       "      <td>12.000000</td>\n",
       "      <td>12.000000</td>\n",
       "      <td>15.000000</td>\n",
       "      <td>106.000000</td>\n",
       "    </tr>\n",
       "    <tr>\n",
       "      <th>75%</th>\n",
       "      <td>24.000000</td>\n",
       "      <td>105.000000</td>\n",
       "      <td>22.000000</td>\n",
       "      <td>25.000000</td>\n",
       "      <td>24.000000</td>\n",
       "      <td>159.000000</td>\n",
       "    </tr>\n",
       "    <tr>\n",
       "      <th>max</th>\n",
       "      <td>31.000000</td>\n",
       "      <td>176.000000</td>\n",
       "      <td>47.000000</td>\n",
       "      <td>50.000000</td>\n",
       "      <td>40.000000</td>\n",
       "      <td>245.000000</td>\n",
       "    </tr>\n",
       "  </tbody>\n",
       "</table>\n",
       "</div>"
      ],
      "text/plain": [
       "              Date     CarCount    BikeCount     BusCount   TruckCount  \\\n",
       "count  2174.000000  2174.000000  2174.000000  2174.000000  2174.000000   \n",
       "mean     16.127875    65.783349    13.725391    15.127875    15.865685   \n",
       "std       9.034944    44.050096    10.691659    14.449405    10.447044   \n",
       "min       1.000000     6.000000     0.000000     0.000000     0.000000   \n",
       "25%       8.000000    19.000000     4.000000     1.000000     7.000000   \n",
       "50%      16.000000    61.000000    12.000000    12.000000    15.000000   \n",
       "75%      24.000000   105.000000    22.000000    25.000000    24.000000   \n",
       "max      31.000000   176.000000    47.000000    50.000000    40.000000   \n",
       "\n",
       "             Total  \n",
       "count  2174.000000  \n",
       "mean    110.502300  \n",
       "std      57.402101  \n",
       "min      22.000000  \n",
       "25%      54.000000  \n",
       "50%     106.000000  \n",
       "75%     159.000000  \n",
       "max     245.000000  "
      ]
     },
     "execution_count": 239,
     "metadata": {},
     "output_type": "execute_result"
    }
   ],
   "source": [
    "X_train_num.describe()"
   ]
  },
  {
   "cell_type": "code",
   "execution_count": 240,
   "id": "ed61e67b",
   "metadata": {},
   "outputs": [
    {
     "data": {
      "text/plain": [
       "Day of the week\n",
       "Tuesday      371\n",
       "Wednesday    365\n",
       "Thursday     364\n",
       "Saturday     288\n",
       "Monday       287\n",
       "Sunday       283\n",
       "Friday       216\n",
       "Name: count, dtype: int64"
      ]
     },
     "execution_count": 240,
     "metadata": {},
     "output_type": "execute_result"
    }
   ],
   "source": [
    "X_train_cat['Day of the week'].value_counts()"
   ]
  },
  {
   "cell_type": "code",
   "execution_count": 241,
   "id": "85ddb400-726c-4919-b027-85bf52277105",
   "metadata": {},
   "outputs": [
    {
     "data": {
      "text/html": [
       "<div>\n",
       "<style scoped>\n",
       "    .dataframe tbody tr th:only-of-type {\n",
       "        vertical-align: middle;\n",
       "    }\n",
       "\n",
       "    .dataframe tbody tr th {\n",
       "        vertical-align: top;\n",
       "    }\n",
       "\n",
       "    .dataframe thead th {\n",
       "        text-align: right;\n",
       "    }\n",
       "</style>\n",
       "<table border=\"1\" class=\"dataframe\">\n",
       "  <thead>\n",
       "    <tr style=\"text-align: right;\">\n",
       "      <th></th>\n",
       "      <th>Day of the week</th>\n",
       "    </tr>\n",
       "  </thead>\n",
       "  <tbody>\n",
       "    <tr>\n",
       "      <th>1194</th>\n",
       "      <td>Saturday</td>\n",
       "    </tr>\n",
       "    <tr>\n",
       "      <th>788</th>\n",
       "      <td>Wednesday</td>\n",
       "    </tr>\n",
       "    <tr>\n",
       "      <th>713</th>\n",
       "      <td>Tuesday</td>\n",
       "    </tr>\n",
       "    <tr>\n",
       "      <th>2828</th>\n",
       "      <td>Wednesday</td>\n",
       "    </tr>\n",
       "    <tr>\n",
       "      <th>1926</th>\n",
       "      <td>Monday</td>\n",
       "    </tr>\n",
       "  </tbody>\n",
       "</table>\n",
       "</div>"
      ],
      "text/plain": [
       "     Day of the week\n",
       "1194        Saturday\n",
       "788        Wednesday\n",
       "713          Tuesday\n",
       "2828       Wednesday\n",
       "1926          Monday"
      ]
     },
     "execution_count": 241,
     "metadata": {},
     "output_type": "execute_result"
    }
   ],
   "source": [
    "X_train_cat_ord = X_train_cat[['Day of the week']]  \n",
    "X_train_cat_ord = pd.DataFrame(X_train_cat_ord, columns=['Day of the week']) \n",
    "\n",
    "X_train_cat_ord.head()"
   ]
  },
  {
   "cell_type": "code",
   "execution_count": 242,
   "id": "5ad1c8b4-f9b6-40ec-85b3-d3cdc0f8c4bc",
   "metadata": {},
   "outputs": [
    {
     "data": {
      "text/html": [
       "<div>\n",
       "<style scoped>\n",
       "    .dataframe tbody tr th:only-of-type {\n",
       "        vertical-align: middle;\n",
       "    }\n",
       "\n",
       "    .dataframe tbody tr th {\n",
       "        vertical-align: top;\n",
       "    }\n",
       "\n",
       "    .dataframe thead th {\n",
       "        text-align: right;\n",
       "    }\n",
       "</style>\n",
       "<table border=\"1\" class=\"dataframe\">\n",
       "  <thead>\n",
       "    <tr style=\"text-align: right;\">\n",
       "      <th></th>\n",
       "    </tr>\n",
       "  </thead>\n",
       "  <tbody>\n",
       "    <tr>\n",
       "      <th>1194</th>\n",
       "    </tr>\n",
       "    <tr>\n",
       "      <th>788</th>\n",
       "    </tr>\n",
       "    <tr>\n",
       "      <th>713</th>\n",
       "    </tr>\n",
       "    <tr>\n",
       "      <th>2828</th>\n",
       "    </tr>\n",
       "    <tr>\n",
       "      <th>1926</th>\n",
       "    </tr>\n",
       "  </tbody>\n",
       "</table>\n",
       "</div>"
      ],
      "text/plain": [
       "Empty DataFrame\n",
       "Columns: []\n",
       "Index: [1194, 788, 713, 2828, 1926]"
      ]
     },
     "execution_count": 242,
     "metadata": {},
     "output_type": "execute_result"
    }
   ],
   "source": [
    "X_train_cat_LabelEnc = pd.DataFrame(index=X_train_cat_ord.index)\n",
    "\n",
    "X_train_cat_LabelEnc.head()"
   ]
  },
  {
   "cell_type": "code",
   "execution_count": 243,
   "id": "962ec6ef-d7ec-48ba-ad8f-a9d7ec97050b",
   "metadata": {},
   "outputs": [
    {
     "data": {
      "text/plain": [
       "array(['Saturday', 'Wednesday', 'Tuesday', 'Monday', 'Friday', 'Thursday',\n",
       "       'Sunday'], dtype=object)"
      ]
     },
     "execution_count": 243,
     "metadata": {},
     "output_type": "execute_result"
    }
   ],
   "source": [
    "X_train_cat_ord['Day of the week'].unique()"
   ]
  },
  {
   "cell_type": "code",
   "execution_count": 244,
   "id": "38e34a7a-64e8-4242-bab1-05abcae0a60f",
   "metadata": {},
   "outputs": [
    {
     "data": {
      "text/html": [
       "<div>\n",
       "<style scoped>\n",
       "    .dataframe tbody tr th:only-of-type {\n",
       "        vertical-align: middle;\n",
       "    }\n",
       "\n",
       "    .dataframe tbody tr th {\n",
       "        vertical-align: top;\n",
       "    }\n",
       "\n",
       "    .dataframe thead th {\n",
       "        text-align: right;\n",
       "    }\n",
       "</style>\n",
       "<table border=\"1\" class=\"dataframe\">\n",
       "  <thead>\n",
       "    <tr style=\"text-align: right;\">\n",
       "      <th></th>\n",
       "      <th>Day of the week</th>\n",
       "    </tr>\n",
       "  </thead>\n",
       "  <tbody>\n",
       "    <tr>\n",
       "      <th>1194</th>\n",
       "      <td>6</td>\n",
       "    </tr>\n",
       "    <tr>\n",
       "      <th>788</th>\n",
       "      <td>3</td>\n",
       "    </tr>\n",
       "    <tr>\n",
       "      <th>713</th>\n",
       "      <td>2</td>\n",
       "    </tr>\n",
       "    <tr>\n",
       "      <th>2828</th>\n",
       "      <td>3</td>\n",
       "    </tr>\n",
       "    <tr>\n",
       "      <th>1926</th>\n",
       "      <td>1</td>\n",
       "    </tr>\n",
       "  </tbody>\n",
       "</table>\n",
       "</div>"
      ],
      "text/plain": [
       "      Day of the week\n",
       "1194                6\n",
       "788                 3\n",
       "713                 2\n",
       "2828                3\n",
       "1926                1"
      ]
     },
     "execution_count": 244,
     "metadata": {},
     "output_type": "execute_result"
    }
   ],
   "source": [
    "cut_encoder = {'Monday' : 1, 'Tuesday' : 2, 'Wednesday' : 3, 'Thursday':4, 'Friday':5, 'Saturday':6, 'Sunday':7}\n",
    "\n",
    "X_train_cat_LabelEnc['Day of the week'] = X_train_cat['Day of the week'].apply(lambda x : cut_encoder[x])\n",
    "\n",
    "X_train_cat_LabelEnc.head()"
   ]
  },
  {
   "cell_type": "code",
   "execution_count": 245,
   "id": "64ada816",
   "metadata": {},
   "outputs": [
    {
     "data": {
      "text/html": [
       "<div>\n",
       "<style scoped>\n",
       "    .dataframe tbody tr th:only-of-type {\n",
       "        vertical-align: middle;\n",
       "    }\n",
       "\n",
       "    .dataframe tbody tr th {\n",
       "        vertical-align: top;\n",
       "    }\n",
       "\n",
       "    .dataframe thead th {\n",
       "        text-align: right;\n",
       "    }\n",
       "</style>\n",
       "<table border=\"1\" class=\"dataframe\">\n",
       "  <thead>\n",
       "    <tr style=\"text-align: right;\">\n",
       "      <th></th>\n",
       "      <th>Date</th>\n",
       "      <th>CarCount</th>\n",
       "      <th>BikeCount</th>\n",
       "      <th>BusCount</th>\n",
       "      <th>TruckCount</th>\n",
       "      <th>Total</th>\n",
       "      <th>Day of the week</th>\n",
       "    </tr>\n",
       "  </thead>\n",
       "  <tbody>\n",
       "    <tr>\n",
       "      <th>1194</th>\n",
       "      <td>0.650084</td>\n",
       "      <td>-0.358387</td>\n",
       "      <td>1.054766</td>\n",
       "      <td>0.683377</td>\n",
       "      <td>1.161774</td>\n",
       "      <td>0.304897</td>\n",
       "      <td>6</td>\n",
       "    </tr>\n",
       "    <tr>\n",
       "      <th>788</th>\n",
       "      <td>0.207257</td>\n",
       "      <td>0.754239</td>\n",
       "      <td>-0.909833</td>\n",
       "      <td>-0.562635</td>\n",
       "      <td>0.300088</td>\n",
       "      <td>0.322322</td>\n",
       "      <td>3</td>\n",
       "    </tr>\n",
       "    <tr>\n",
       "      <th>713</th>\n",
       "      <td>0.096550</td>\n",
       "      <td>0.549879</td>\n",
       "      <td>-1.096938</td>\n",
       "      <td>-0.008852</td>\n",
       "      <td>0.204345</td>\n",
       "      <td>0.252622</td>\n",
       "      <td>2</td>\n",
       "    </tr>\n",
       "    <tr>\n",
       "      <th>2828</th>\n",
       "      <td>-0.899811</td>\n",
       "      <td>-0.676280</td>\n",
       "      <td>-0.442072</td>\n",
       "      <td>-0.493412</td>\n",
       "      <td>1.161774</td>\n",
       "      <td>-0.514077</td>\n",
       "      <td>3</td>\n",
       "    </tr>\n",
       "    <tr>\n",
       "      <th>1926</th>\n",
       "      <td>1.535739</td>\n",
       "      <td>-1.085000</td>\n",
       "      <td>-0.909833</td>\n",
       "      <td>-1.047196</td>\n",
       "      <td>1.449003</td>\n",
       "      <td>-1.001976</td>\n",
       "      <td>1</td>\n",
       "    </tr>\n",
       "  </tbody>\n",
       "</table>\n",
       "</div>"
      ],
      "text/plain": [
       "          Date  CarCount  BikeCount  BusCount  TruckCount     Total  \\\n",
       "1194  0.650084 -0.358387   1.054766  0.683377    1.161774  0.304897   \n",
       "788   0.207257  0.754239  -0.909833 -0.562635    0.300088  0.322322   \n",
       "713   0.096550  0.549879  -1.096938 -0.008852    0.204345  0.252622   \n",
       "2828 -0.899811 -0.676280  -0.442072 -0.493412    1.161774 -0.514077   \n",
       "1926  1.535739 -1.085000  -0.909833 -1.047196    1.449003 -1.001976   \n",
       "\n",
       "      Day of the week  \n",
       "1194                6  \n",
       "788                 3  \n",
       "713                 2  \n",
       "2828                3  \n",
       "1926                1  "
      ]
     },
     "execution_count": 245,
     "metadata": {},
     "output_type": "execute_result"
    }
   ],
   "source": [
    "X_train_transformed=pd.concat([x_train_num_rescaled,X_train_cat_LabelEnc],axis=1)\n",
    "X_train_transformed.head()"
   ]
  },
  {
   "cell_type": "markdown",
   "id": "0b365e87",
   "metadata": {},
   "source": [
    "# Data preparation on test data:"
   ]
  },
  {
   "cell_type": "code",
   "execution_count": 246,
   "id": "9745e5ac",
   "metadata": {},
   "outputs": [
    {
     "data": {
      "text/html": [
       "<div>\n",
       "<style scoped>\n",
       "    .dataframe tbody tr th:only-of-type {\n",
       "        vertical-align: middle;\n",
       "    }\n",
       "\n",
       "    .dataframe tbody tr th {\n",
       "        vertical-align: top;\n",
       "    }\n",
       "\n",
       "    .dataframe thead th {\n",
       "        text-align: right;\n",
       "    }\n",
       "</style>\n",
       "<table border=\"1\" class=\"dataframe\">\n",
       "  <thead>\n",
       "    <tr style=\"text-align: right;\">\n",
       "      <th></th>\n",
       "      <th>Date</th>\n",
       "      <th>CarCount</th>\n",
       "      <th>BikeCount</th>\n",
       "      <th>BusCount</th>\n",
       "      <th>TruckCount</th>\n",
       "      <th>Total</th>\n",
       "    </tr>\n",
       "  </thead>\n",
       "  <tbody>\n",
       "    <tr>\n",
       "      <th>2558</th>\n",
       "      <td>5</td>\n",
       "      <td>70</td>\n",
       "      <td>18</td>\n",
       "      <td>28</td>\n",
       "      <td>5</td>\n",
       "      <td>121</td>\n",
       "    </tr>\n",
       "    <tr>\n",
       "      <th>623</th>\n",
       "      <td>16</td>\n",
       "      <td>44</td>\n",
       "      <td>9</td>\n",
       "      <td>10</td>\n",
       "      <td>24</td>\n",
       "      <td>87</td>\n",
       "    </tr>\n",
       "    <tr>\n",
       "      <th>98</th>\n",
       "      <td>11</td>\n",
       "      <td>16</td>\n",
       "      <td>1</td>\n",
       "      <td>0</td>\n",
       "      <td>14</td>\n",
       "      <td>31</td>\n",
       "    </tr>\n",
       "    <tr>\n",
       "      <th>790</th>\n",
       "      <td>18</td>\n",
       "      <td>102</td>\n",
       "      <td>24</td>\n",
       "      <td>2</td>\n",
       "      <td>8</td>\n",
       "      <td>136</td>\n",
       "    </tr>\n",
       "    <tr>\n",
       "      <th>2677</th>\n",
       "      <td>6</td>\n",
       "      <td>96</td>\n",
       "      <td>21</td>\n",
       "      <td>11</td>\n",
       "      <td>24</td>\n",
       "      <td>152</td>\n",
       "    </tr>\n",
       "  </tbody>\n",
       "</table>\n",
       "</div>"
      ],
      "text/plain": [
       "      Date  CarCount  BikeCount  BusCount  TruckCount  Total\n",
       "2558     5        70         18        28           5    121\n",
       "623     16        44          9        10          24     87\n",
       "98      11        16          1         0          14     31\n",
       "790     18       102         24         2           8    136\n",
       "2677     6        96         21        11          24    152"
      ]
     },
     "execution_count": 246,
     "metadata": {},
     "output_type": "execute_result"
    }
   ],
   "source": [
    "X_test_num=X_test.select_dtypes(include=['int64','int32'])\n",
    "X_test_num.head()"
   ]
  },
  {
   "cell_type": "code",
   "execution_count": 247,
   "id": "d0c32e57",
   "metadata": {},
   "outputs": [
    {
     "data": {
      "text/html": [
       "<div>\n",
       "<style scoped>\n",
       "    .dataframe tbody tr th:only-of-type {\n",
       "        vertical-align: middle;\n",
       "    }\n",
       "\n",
       "    .dataframe tbody tr th {\n",
       "        vertical-align: top;\n",
       "    }\n",
       "\n",
       "    .dataframe thead th {\n",
       "        text-align: right;\n",
       "    }\n",
       "</style>\n",
       "<table border=\"1\" class=\"dataframe\">\n",
       "  <thead>\n",
       "    <tr style=\"text-align: right;\">\n",
       "      <th></th>\n",
       "      <th>Date</th>\n",
       "      <th>CarCount</th>\n",
       "      <th>BikeCount</th>\n",
       "      <th>BusCount</th>\n",
       "      <th>TruckCount</th>\n",
       "      <th>Total</th>\n",
       "    </tr>\n",
       "  </thead>\n",
       "  <tbody>\n",
       "    <tr>\n",
       "      <th>2558</th>\n",
       "      <td>-1.231932</td>\n",
       "      <td>0.095746</td>\n",
       "      <td>0.399900</td>\n",
       "      <td>0.891046</td>\n",
       "      <td>-1.040312</td>\n",
       "      <td>0.182922</td>\n",
       "    </tr>\n",
       "    <tr>\n",
       "      <th>623</th>\n",
       "      <td>-0.014157</td>\n",
       "      <td>-0.494627</td>\n",
       "      <td>-0.442072</td>\n",
       "      <td>-0.354967</td>\n",
       "      <td>0.778803</td>\n",
       "      <td>-0.409527</td>\n",
       "    </tr>\n",
       "    <tr>\n",
       "      <th>98</th>\n",
       "      <td>-0.567691</td>\n",
       "      <td>-1.130413</td>\n",
       "      <td>-1.190490</td>\n",
       "      <td>-1.047196</td>\n",
       "      <td>-0.178626</td>\n",
       "      <td>-1.385325</td>\n",
       "    </tr>\n",
       "    <tr>\n",
       "      <th>790</th>\n",
       "      <td>0.207257</td>\n",
       "      <td>0.822359</td>\n",
       "      <td>0.961214</td>\n",
       "      <td>-0.908750</td>\n",
       "      <td>-0.753083</td>\n",
       "      <td>0.444297</td>\n",
       "    </tr>\n",
       "    <tr>\n",
       "      <th>2677</th>\n",
       "      <td>-1.121225</td>\n",
       "      <td>0.686119</td>\n",
       "      <td>0.680557</td>\n",
       "      <td>-0.285744</td>\n",
       "      <td>0.778803</td>\n",
       "      <td>0.723096</td>\n",
       "    </tr>\n",
       "  </tbody>\n",
       "</table>\n",
       "</div>"
      ],
      "text/plain": [
       "          Date  CarCount  BikeCount  BusCount  TruckCount     Total\n",
       "2558 -1.231932  0.095746   0.399900  0.891046   -1.040312  0.182922\n",
       "623  -0.014157 -0.494627  -0.442072 -0.354967    0.778803 -0.409527\n",
       "98   -0.567691 -1.130413  -1.190490 -1.047196   -0.178626 -1.385325\n",
       "790   0.207257  0.822359   0.961214 -0.908750   -0.753083  0.444297\n",
       "2677 -1.121225  0.686119   0.680557 -0.285744    0.778803  0.723096"
      ]
     },
     "execution_count": 247,
     "metadata": {},
     "output_type": "execute_result"
    }
   ],
   "source": [
    "x_test_num_rescaled=pd.DataFrame(Scaler.transform(X_test_num),\n",
    "                                 columns=X_test_num.columns,\n",
    "                                 index=X_test_num.index)\n",
    "x_test_num_rescaled.head()\n"
   ]
  },
  {
   "cell_type": "code",
   "execution_count": 248,
   "id": "e5596885",
   "metadata": {},
   "outputs": [
    {
     "data": {
      "text/html": [
       "<div>\n",
       "<style scoped>\n",
       "    .dataframe tbody tr th:only-of-type {\n",
       "        vertical-align: middle;\n",
       "    }\n",
       "\n",
       "    .dataframe tbody tr th {\n",
       "        vertical-align: top;\n",
       "    }\n",
       "\n",
       "    .dataframe thead th {\n",
       "        text-align: right;\n",
       "    }\n",
       "</style>\n",
       "<table border=\"1\" class=\"dataframe\">\n",
       "  <thead>\n",
       "    <tr style=\"text-align: right;\">\n",
       "      <th></th>\n",
       "      <th>Day of the week</th>\n",
       "    </tr>\n",
       "  </thead>\n",
       "  <tbody>\n",
       "    <tr>\n",
       "      <th>2558</th>\n",
       "      <td>Sunday</td>\n",
       "    </tr>\n",
       "    <tr>\n",
       "      <th>623</th>\n",
       "      <td>Monday</td>\n",
       "    </tr>\n",
       "    <tr>\n",
       "      <th>98</th>\n",
       "      <td>Wednesday</td>\n",
       "    </tr>\n",
       "    <tr>\n",
       "      <th>790</th>\n",
       "      <td>Wednesday</td>\n",
       "    </tr>\n",
       "    <tr>\n",
       "      <th>2677</th>\n",
       "      <td>Monday</td>\n",
       "    </tr>\n",
       "  </tbody>\n",
       "</table>\n",
       "</div>"
      ],
      "text/plain": [
       "     Day of the week\n",
       "2558          Sunday\n",
       "623           Monday\n",
       "98         Wednesday\n",
       "790        Wednesday\n",
       "2677          Monday"
      ]
     },
     "execution_count": 248,
     "metadata": {},
     "output_type": "execute_result"
    }
   ],
   "source": [
    "X_test_cat=X_test.select_dtypes(include=['object'])\n",
    "X_test_cat.head()"
   ]
  },
  {
   "cell_type": "code",
   "execution_count": 249,
   "id": "58ba9c2c-e2d7-46e9-a4aa-597bf8fb9d71",
   "metadata": {},
   "outputs": [
    {
     "data": {
      "text/html": [
       "<div>\n",
       "<style scoped>\n",
       "    .dataframe tbody tr th:only-of-type {\n",
       "        vertical-align: middle;\n",
       "    }\n",
       "\n",
       "    .dataframe tbody tr th {\n",
       "        vertical-align: top;\n",
       "    }\n",
       "\n",
       "    .dataframe thead th {\n",
       "        text-align: right;\n",
       "    }\n",
       "</style>\n",
       "<table border=\"1\" class=\"dataframe\">\n",
       "  <thead>\n",
       "    <tr style=\"text-align: right;\">\n",
       "      <th></th>\n",
       "    </tr>\n",
       "  </thead>\n",
       "  <tbody>\n",
       "    <tr>\n",
       "      <th>2558</th>\n",
       "    </tr>\n",
       "    <tr>\n",
       "      <th>623</th>\n",
       "    </tr>\n",
       "    <tr>\n",
       "      <th>98</th>\n",
       "    </tr>\n",
       "    <tr>\n",
       "      <th>790</th>\n",
       "    </tr>\n",
       "    <tr>\n",
       "      <th>2677</th>\n",
       "    </tr>\n",
       "  </tbody>\n",
       "</table>\n",
       "</div>"
      ],
      "text/plain": [
       "Empty DataFrame\n",
       "Columns: []\n",
       "Index: [2558, 623, 98, 790, 2677]"
      ]
     },
     "execution_count": 249,
     "metadata": {},
     "output_type": "execute_result"
    }
   ],
   "source": [
    "X_test_cat_LabelEnc = pd.DataFrame(index=X_test_cat.index)\n",
    "\n",
    "X_test_cat_LabelEnc.head()"
   ]
  },
  {
   "cell_type": "code",
   "execution_count": 250,
   "id": "7b5483c2-c0f0-4727-b508-78abb9846272",
   "metadata": {},
   "outputs": [
    {
     "data": {
      "text/html": [
       "<div>\n",
       "<style scoped>\n",
       "    .dataframe tbody tr th:only-of-type {\n",
       "        vertical-align: middle;\n",
       "    }\n",
       "\n",
       "    .dataframe tbody tr th {\n",
       "        vertical-align: top;\n",
       "    }\n",
       "\n",
       "    .dataframe thead th {\n",
       "        text-align: right;\n",
       "    }\n",
       "</style>\n",
       "<table border=\"1\" class=\"dataframe\">\n",
       "  <thead>\n",
       "    <tr style=\"text-align: right;\">\n",
       "      <th></th>\n",
       "      <th>Day of the week</th>\n",
       "    </tr>\n",
       "  </thead>\n",
       "  <tbody>\n",
       "    <tr>\n",
       "      <th>2558</th>\n",
       "      <td>7</td>\n",
       "    </tr>\n",
       "    <tr>\n",
       "      <th>623</th>\n",
       "      <td>1</td>\n",
       "    </tr>\n",
       "    <tr>\n",
       "      <th>98</th>\n",
       "      <td>3</td>\n",
       "    </tr>\n",
       "    <tr>\n",
       "      <th>790</th>\n",
       "      <td>3</td>\n",
       "    </tr>\n",
       "    <tr>\n",
       "      <th>2677</th>\n",
       "      <td>1</td>\n",
       "    </tr>\n",
       "  </tbody>\n",
       "</table>\n",
       "</div>"
      ],
      "text/plain": [
       "      Day of the week\n",
       "2558                7\n",
       "623                 1\n",
       "98                  3\n",
       "790                 3\n",
       "2677                1"
      ]
     },
     "execution_count": 250,
     "metadata": {},
     "output_type": "execute_result"
    }
   ],
   "source": [
    "X_test_cat_LabelEnc['Day of the week'] = X_test_cat['Day of the week'].apply(lambda x : cut_encoder[x])\n",
    "\n",
    "X_test_cat_LabelEnc.head()"
   ]
  },
  {
   "cell_type": "code",
   "execution_count": 251,
   "id": "56220468",
   "metadata": {},
   "outputs": [
    {
     "data": {
      "text/html": [
       "<div>\n",
       "<style scoped>\n",
       "    .dataframe tbody tr th:only-of-type {\n",
       "        vertical-align: middle;\n",
       "    }\n",
       "\n",
       "    .dataframe tbody tr th {\n",
       "        vertical-align: top;\n",
       "    }\n",
       "\n",
       "    .dataframe thead th {\n",
       "        text-align: right;\n",
       "    }\n",
       "</style>\n",
       "<table border=\"1\" class=\"dataframe\">\n",
       "  <thead>\n",
       "    <tr style=\"text-align: right;\">\n",
       "      <th></th>\n",
       "      <th>Date</th>\n",
       "      <th>CarCount</th>\n",
       "      <th>BikeCount</th>\n",
       "      <th>BusCount</th>\n",
       "      <th>TruckCount</th>\n",
       "      <th>Total</th>\n",
       "      <th>Day of the week</th>\n",
       "    </tr>\n",
       "  </thead>\n",
       "  <tbody>\n",
       "    <tr>\n",
       "      <th>2558</th>\n",
       "      <td>-1.231932</td>\n",
       "      <td>0.095746</td>\n",
       "      <td>0.399900</td>\n",
       "      <td>0.891046</td>\n",
       "      <td>-1.040312</td>\n",
       "      <td>0.182922</td>\n",
       "      <td>7</td>\n",
       "    </tr>\n",
       "    <tr>\n",
       "      <th>623</th>\n",
       "      <td>-0.014157</td>\n",
       "      <td>-0.494627</td>\n",
       "      <td>-0.442072</td>\n",
       "      <td>-0.354967</td>\n",
       "      <td>0.778803</td>\n",
       "      <td>-0.409527</td>\n",
       "      <td>1</td>\n",
       "    </tr>\n",
       "    <tr>\n",
       "      <th>98</th>\n",
       "      <td>-0.567691</td>\n",
       "      <td>-1.130413</td>\n",
       "      <td>-1.190490</td>\n",
       "      <td>-1.047196</td>\n",
       "      <td>-0.178626</td>\n",
       "      <td>-1.385325</td>\n",
       "      <td>3</td>\n",
       "    </tr>\n",
       "    <tr>\n",
       "      <th>790</th>\n",
       "      <td>0.207257</td>\n",
       "      <td>0.822359</td>\n",
       "      <td>0.961214</td>\n",
       "      <td>-0.908750</td>\n",
       "      <td>-0.753083</td>\n",
       "      <td>0.444297</td>\n",
       "      <td>3</td>\n",
       "    </tr>\n",
       "    <tr>\n",
       "      <th>2677</th>\n",
       "      <td>-1.121225</td>\n",
       "      <td>0.686119</td>\n",
       "      <td>0.680557</td>\n",
       "      <td>-0.285744</td>\n",
       "      <td>0.778803</td>\n",
       "      <td>0.723096</td>\n",
       "      <td>1</td>\n",
       "    </tr>\n",
       "  </tbody>\n",
       "</table>\n",
       "</div>"
      ],
      "text/plain": [
       "          Date  CarCount  BikeCount  BusCount  TruckCount     Total  \\\n",
       "2558 -1.231932  0.095746   0.399900  0.891046   -1.040312  0.182922   \n",
       "623  -0.014157 -0.494627  -0.442072 -0.354967    0.778803 -0.409527   \n",
       "98   -0.567691 -1.130413  -1.190490 -1.047196   -0.178626 -1.385325   \n",
       "790   0.207257  0.822359   0.961214 -0.908750   -0.753083  0.444297   \n",
       "2677 -1.121225  0.686119   0.680557 -0.285744    0.778803  0.723096   \n",
       "\n",
       "      Day of the week  \n",
       "2558                7  \n",
       "623                 1  \n",
       "98                  3  \n",
       "790                 3  \n",
       "2677                1  "
      ]
     },
     "execution_count": 251,
     "metadata": {},
     "output_type": "execute_result"
    }
   ],
   "source": [
    "X_test_transformed=pd.concat([x_test_num_rescaled,X_test_cat_LabelEnc],axis=1)\n",
    "X_test_transformed.head()\n"
   ]
  },
  {
   "cell_type": "code",
   "execution_count": 252,
   "id": "2bcd72b2",
   "metadata": {},
   "outputs": [],
   "source": [
    "#!pip install keras-tuner --upgrade\n",
    "#!pip install hyperopt"
   ]
  },
  {
   "cell_type": "code",
   "execution_count": 253,
   "id": "74176155",
   "metadata": {},
   "outputs": [],
   "source": [
    "import pandas as pd\n",
    "import numpy as np\n",
    "import keras\n",
    "\n",
    "from sklearn.model_selection import train_test_split\n",
    "#i#mport imblearn\n",
    "#from imblearn.over_sampling import SMOTE\n",
    "from keras import Sequential\n",
    "from keras.layers import Dense,Dropout,BatchNormalization,Input\n",
    "import matplotlib.pyplot as plt\n",
    "\n",
    "from sklearn.metrics import accuracy_score\n",
    "from sklearn.metrics import confusion_matrix\n",
    "import keras_tuner as k\n",
    "# from hyperopt import fmin, tpe, Trials\n",
    "from keras import Sequential\n",
    "from keras.layers import Dense\n",
    "#pip install keras-tuner --upgrade"
   ]
  },
  {
   "cell_type": "code",
   "execution_count": 287,
   "id": "4501f1c1",
   "metadata": {},
   "outputs": [],
   "source": [
    "def modellss(hp):\n",
    "    model=Sequential()\n",
    "    model.add(Input(shape=(X_train_transformed.shape[1],)))\n",
    "    \n",
    "    for i in range(hp.Int(\"hiddenlayers\",min_value=5,max_value=10)):\n",
    "                model.add(Dense(units=hp.Int(\"neurons{}\".format(i),min_value=1,max_value=15),activation=hp.Choice(\"activation\", values=[\"sigmoid\", \"tanh\", \"relu\"])\n",
    "                                ,kernel_initializer=hp.Choice(\"weight_init\", values=[\"glorot_uniform\", \"glorot_normal\", \"he_uniform\", \"he_normal\"])))\n",
    "\n",
    "    model.add(Dense(4,activation=\"softmax\"))\n",
    "    model.compile(loss='sparse_categorical_crossentropy',optimizer='adam', metrics=['accuracy'])\n",
    "    return model"
   ]
  },
  {
   "cell_type": "code",
   "execution_count": 288,
   "id": "f8b7f6f6",
   "metadata": {},
   "outputs": [],
   "source": [
    "tuner=k.RandomSearch(modellss,objective=\"val_accuracy\",max_trials=15,directory=\"C:\\\\Users\\\\ADMIN\\\\Downloads\\\\DL folders\",project_name=\"f2\")"
   ]
  },
  {
   "cell_type": "code",
   "execution_count": 289,
   "id": "bde49fb7",
   "metadata": {},
   "outputs": [
    {
     "name": "stdout",
     "output_type": "stream",
     "text": [
      "Trial 15 Complete [00h 00m 15s]\n",
      "val_accuracy: 0.9213793277740479\n",
      "\n",
      "Best val_accuracy So Far: 0.9420689940452576\n",
      "Total elapsed time: 00h 03m 26s\n"
     ]
    }
   ],
   "source": [
    "tuner.search(X_train_transformed,y_train,epochs=55,validation_data=(X_test_transformed,y_test)) "
   ]
  },
  {
   "cell_type": "code",
   "execution_count": 290,
   "id": "27b3871d",
   "metadata": {},
   "outputs": [
    {
     "name": "stdout",
     "output_type": "stream",
     "text": [
      "Search space summary\n",
      "Default search space size: 13\n",
      "hiddenlayers (Int)\n",
      "{'default': None, 'conditions': [], 'min_value': 5, 'max_value': 10, 'step': 1, 'sampling': 'linear'}\n",
      "neurons0 (Int)\n",
      "{'default': None, 'conditions': [], 'min_value': 1, 'max_value': 15, 'step': 1, 'sampling': 'linear'}\n",
      "activation (Choice)\n",
      "{'default': 'sigmoid', 'conditions': [], 'values': ['sigmoid', 'tanh', 'relu'], 'ordered': False}\n",
      "weight_init (Choice)\n",
      "{'default': 'glorot_uniform', 'conditions': [], 'values': ['glorot_uniform', 'glorot_normal', 'he_uniform', 'he_normal'], 'ordered': False}\n",
      "neurons1 (Int)\n",
      "{'default': None, 'conditions': [], 'min_value': 1, 'max_value': 15, 'step': 1, 'sampling': 'linear'}\n",
      "neurons2 (Int)\n",
      "{'default': None, 'conditions': [], 'min_value': 1, 'max_value': 15, 'step': 1, 'sampling': 'linear'}\n",
      "neurons3 (Int)\n",
      "{'default': None, 'conditions': [], 'min_value': 1, 'max_value': 15, 'step': 1, 'sampling': 'linear'}\n",
      "neurons4 (Int)\n",
      "{'default': None, 'conditions': [], 'min_value': 1, 'max_value': 15, 'step': 1, 'sampling': 'linear'}\n",
      "neurons5 (Int)\n",
      "{'default': None, 'conditions': [], 'min_value': 1, 'max_value': 15, 'step': 1, 'sampling': 'linear'}\n",
      "neurons6 (Int)\n",
      "{'default': None, 'conditions': [], 'min_value': 1, 'max_value': 15, 'step': 1, 'sampling': 'linear'}\n",
      "neurons7 (Int)\n",
      "{'default': None, 'conditions': [], 'min_value': 1, 'max_value': 15, 'step': 1, 'sampling': 'linear'}\n",
      "neurons8 (Int)\n",
      "{'default': None, 'conditions': [], 'min_value': 1, 'max_value': 15, 'step': 1, 'sampling': 'linear'}\n",
      "neurons9 (Int)\n",
      "{'default': None, 'conditions': [], 'min_value': 1, 'max_value': 15, 'step': 1, 'sampling': 'linear'}\n"
     ]
    }
   ],
   "source": [
    "tuner.search_space_summary()"
   ]
  },
  {
   "cell_type": "code",
   "execution_count": 291,
   "id": "7b95f11e",
   "metadata": {
    "scrolled": false
   },
   "outputs": [
    {
     "name": "stdout",
     "output_type": "stream",
     "text": [
      "Results summary\n",
      "Results in C:\\Users\\ADMIN\\Downloads\\DL folders\\f2\n",
      "Showing 10 best trials\n",
      "Objective(name=\"val_accuracy\", direction=\"max\")\n",
      "\n",
      "Trial 05 summary\n",
      "Hyperparameters:\n",
      "hiddenlayers: 5\n",
      "neurons0: 4\n",
      "activation: tanh\n",
      "weight_init: glorot_normal\n",
      "neurons1: 12\n",
      "neurons2: 12\n",
      "neurons3: 14\n",
      "neurons4: 4\n",
      "neurons5: 3\n",
      "neurons6: 12\n",
      "neurons7: 1\n",
      "neurons8: 2\n",
      "neurons9: 14\n",
      "Score: 0.9420689940452576\n",
      "\n",
      "Trial 08 summary\n",
      "Hyperparameters:\n",
      "hiddenlayers: 7\n",
      "neurons0: 12\n",
      "activation: relu\n",
      "weight_init: he_uniform\n",
      "neurons1: 8\n",
      "neurons2: 15\n",
      "neurons3: 2\n",
      "neurons4: 14\n",
      "neurons5: 6\n",
      "neurons6: 12\n",
      "neurons7: 5\n",
      "neurons8: 14\n",
      "neurons9: 12\n",
      "Score: 0.935172438621521\n",
      "\n",
      "Trial 03 summary\n",
      "Hyperparameters:\n",
      "hiddenlayers: 6\n",
      "neurons0: 12\n",
      "activation: relu\n",
      "weight_init: glorot_uniform\n",
      "neurons1: 13\n",
      "neurons2: 2\n",
      "neurons3: 11\n",
      "neurons4: 6\n",
      "neurons5: 10\n",
      "neurons6: 1\n",
      "neurons7: 5\n",
      "Score: 0.9337931275367737\n",
      "\n",
      "Trial 07 summary\n",
      "Hyperparameters:\n",
      "hiddenlayers: 9\n",
      "neurons0: 12\n",
      "activation: relu\n",
      "weight_init: he_normal\n",
      "neurons1: 9\n",
      "neurons2: 9\n",
      "neurons3: 11\n",
      "neurons4: 10\n",
      "neurons5: 10\n",
      "neurons6: 7\n",
      "neurons7: 7\n",
      "neurons8: 12\n",
      "neurons9: 10\n",
      "Score: 0.9324138164520264\n",
      "\n",
      "Trial 14 summary\n",
      "Hyperparameters:\n",
      "hiddenlayers: 10\n",
      "neurons0: 4\n",
      "activation: tanh\n",
      "weight_init: he_normal\n",
      "neurons1: 5\n",
      "neurons2: 14\n",
      "neurons3: 8\n",
      "neurons4: 1\n",
      "neurons5: 15\n",
      "neurons6: 13\n",
      "neurons7: 6\n",
      "neurons8: 7\n",
      "neurons9: 9\n",
      "Score: 0.9213793277740479\n",
      "\n",
      "Trial 09 summary\n",
      "Hyperparameters:\n",
      "hiddenlayers: 5\n",
      "neurons0: 11\n",
      "activation: relu\n",
      "weight_init: he_normal\n",
      "neurons1: 2\n",
      "neurons2: 11\n",
      "neurons3: 9\n",
      "neurons4: 11\n",
      "neurons5: 10\n",
      "neurons6: 14\n",
      "neurons7: 15\n",
      "neurons8: 4\n",
      "neurons9: 4\n",
      "Score: 0.9020689725875854\n",
      "\n",
      "Trial 06 summary\n",
      "Hyperparameters:\n",
      "hiddenlayers: 9\n",
      "neurons0: 8\n",
      "activation: tanh\n",
      "weight_init: glorot_uniform\n",
      "neurons1: 6\n",
      "neurons2: 2\n",
      "neurons3: 3\n",
      "neurons4: 11\n",
      "neurons5: 12\n",
      "neurons6: 15\n",
      "neurons7: 1\n",
      "neurons8: 9\n",
      "neurons9: 1\n",
      "Score: 0.9006896615028381\n",
      "\n",
      "Trial 02 summary\n",
      "Hyperparameters:\n",
      "hiddenlayers: 7\n",
      "neurons0: 14\n",
      "activation: sigmoid\n",
      "weight_init: glorot_uniform\n",
      "neurons1: 6\n",
      "neurons2: 7\n",
      "neurons3: 11\n",
      "neurons4: 14\n",
      "neurons5: 13\n",
      "neurons6: 12\n",
      "neurons7: 5\n",
      "Score: 0.8206896781921387\n",
      "\n",
      "Trial 04 summary\n",
      "Hyperparameters:\n",
      "hiddenlayers: 10\n",
      "neurons0: 3\n",
      "activation: relu\n",
      "weight_init: he_uniform\n",
      "neurons1: 12\n",
      "neurons2: 4\n",
      "neurons3: 5\n",
      "neurons4: 7\n",
      "neurons5: 6\n",
      "neurons6: 2\n",
      "neurons7: 2\n",
      "neurons8: 1\n",
      "neurons9: 1\n",
      "Score: 0.8151724338531494\n",
      "\n",
      "Trial 00 summary\n",
      "Hyperparameters:\n",
      "hiddenlayers: 5\n",
      "neurons0: 6\n",
      "activation: sigmoid\n",
      "weight_init: glorot_normal\n",
      "neurons1: 4\n",
      "neurons2: 12\n",
      "neurons3: 14\n",
      "neurons4: 5\n",
      "Score: 0.8013793230056763\n"
     ]
    }
   ],
   "source": [
    "tuner.results_summary()"
   ]
  },
  {
   "cell_type": "code",
   "execution_count": 292,
   "id": "97796689",
   "metadata": {},
   "outputs": [
    {
     "data": {
      "text/plain": [
       "{'hiddenlayers': 5,\n",
       " 'neurons0': 4,\n",
       " 'activation': 'tanh',\n",
       " 'weight_init': 'glorot_normal',\n",
       " 'neurons1': 12,\n",
       " 'neurons2': 12,\n",
       " 'neurons3': 14,\n",
       " 'neurons4': 4,\n",
       " 'neurons5': 3,\n",
       " 'neurons6': 12,\n",
       " 'neurons7': 1,\n",
       " 'neurons8': 2,\n",
       " 'neurons9': 14}"
      ]
     },
     "execution_count": 292,
     "metadata": {},
     "output_type": "execute_result"
    }
   ],
   "source": [
    "tuner.get_best_hyperparameters()[0].values"
   ]
  },
  {
   "cell_type": "code",
   "execution_count": 293,
   "id": "7e80bd0e",
   "metadata": {},
   "outputs": [],
   "source": [
    "fmodel = tuner.get_best_models(num_models=1)[0]"
   ]
  },
  {
   "cell_type": "code",
   "execution_count": 294,
   "id": "23b781a0",
   "metadata": {},
   "outputs": [
    {
     "name": "stdout",
     "output_type": "stream",
     "text": [
      "Model: \"sequential\"\n",
      "_________________________________________________________________\n",
      " Layer (type)                Output Shape              Param #   \n",
      "=================================================================\n",
      " dense (Dense)               (None, 4)                 32        \n",
      "                                                                 \n",
      " dense_1 (Dense)             (None, 12)                60        \n",
      "                                                                 \n",
      " dense_2 (Dense)             (None, 12)                156       \n",
      "                                                                 \n",
      " dense_3 (Dense)             (None, 14)                182       \n",
      "                                                                 \n",
      " dense_4 (Dense)             (None, 4)                 60        \n",
      "                                                                 \n",
      " dense_5 (Dense)             (None, 4)                 20        \n",
      "                                                                 \n",
      "=================================================================\n",
      "Total params: 510 (1.99 KB)\n",
      "Trainable params: 510 (1.99 KB)\n",
      "Non-trainable params: 0 (0.00 Byte)\n",
      "_________________________________________________________________\n"
     ]
    }
   ],
   "source": [
    "fmodel.summary()"
   ]
  },
  {
   "cell_type": "code",
   "execution_count": 295,
   "id": "833ab894",
   "metadata": {},
   "outputs": [
    {
     "name": "stdout",
     "output_type": "stream",
     "text": [
      "Epoch 1/10\n",
      "196/196 [==============================] - 2s 3ms/step - loss: 0.1996 - accuracy: 0.9254 - val_loss: 0.2715 - val_accuracy: 0.9128\n",
      "Epoch 2/10\n",
      "196/196 [==============================] - 0s 2ms/step - loss: 0.1952 - accuracy: 0.9269 - val_loss: 0.2258 - val_accuracy: 0.9083\n",
      "Epoch 3/10\n",
      "196/196 [==============================] - 0s 2ms/step - loss: 0.1832 - accuracy: 0.9325 - val_loss: 0.2748 - val_accuracy: 0.8991\n",
      "Epoch 4/10\n",
      "196/196 [==============================] - 0s 2ms/step - loss: 0.1797 - accuracy: 0.9335 - val_loss: 0.2240 - val_accuracy: 0.9220\n",
      "Epoch 5/10\n",
      "196/196 [==============================] - 0s 2ms/step - loss: 0.1685 - accuracy: 0.9392 - val_loss: 0.1986 - val_accuracy: 0.9358\n",
      "Epoch 6/10\n",
      "196/196 [==============================] - 0s 2ms/step - loss: 0.1774 - accuracy: 0.9315 - val_loss: 0.2301 - val_accuracy: 0.8991\n",
      "Epoch 7/10\n",
      "196/196 [==============================] - 0s 2ms/step - loss: 0.1657 - accuracy: 0.9361 - val_loss: 0.2093 - val_accuracy: 0.9266\n",
      "Epoch 8/10\n",
      "196/196 [==============================] - 0s 2ms/step - loss: 0.1576 - accuracy: 0.9402 - val_loss: 0.2026 - val_accuracy: 0.9174\n",
      "Epoch 9/10\n",
      "196/196 [==============================] - 0s 2ms/step - loss: 0.1661 - accuracy: 0.9335 - val_loss: 0.2076 - val_accuracy: 0.9266\n",
      "Epoch 10/10\n",
      "196/196 [==============================] - 0s 2ms/step - loss: 0.1669 - accuracy: 0.9417 - val_loss: 0.2012 - val_accuracy: 0.9358\n"
     ]
    }
   ],
   "source": [
    "hist=fmodel.fit(X_train_transformed,y_train,batch_size=10,epochs=10,validation_split=0.1)"
   ]
  },
  {
   "cell_type": "code",
   "execution_count": 296,
   "id": "6caebbec",
   "metadata": {},
   "outputs": [],
   "source": [
    "import matplotlib.pyplot as plt"
   ]
  },
  {
   "cell_type": "code",
   "execution_count": 297,
   "id": "60ba71d0",
   "metadata": {},
   "outputs": [
    {
     "data": {
      "image/png": "[encoded data removed]",
      "text/plain": [
       "<Figure size 640x480 with 1 Axes>"
      ]
     },
     "metadata": {},
     "output_type": "display_data"
    }
   ],
   "source": [
    "plt.plot(range(1,11),hist.history[\"loss\"],label=\"train_loss\")\n",
    "plt.plot(range(1,11),hist.history[\"val_loss\"],label=\"val_loss\")\n",
    "plt.legend()\n",
    "plt.show()"
   ]
  },
  {
   "cell_type": "code",
   "execution_count": 298,
   "id": "3f96158f",
   "metadata": {},
   "outputs": [
    {
     "data": {
      "text/plain": [
       "[0.27153220772743225,\n",
       " 0.2257583886384964,\n",
       " 0.2747766077518463,\n",
       " 0.22404974699020386,\n",
       " 0.19862347841262817,\n",
       " 0.2301405519247055,\n",
       " 0.2092655450105667,\n",
       " 0.20257849991321564,\n",
       " 0.20758341252803802,\n",
       " 0.20117324590682983]"
      ]
     },
     "execution_count": 298,
     "metadata": {},
     "output_type": "execute_result"
    }
   ],
   "source": [
    "hist.history['val_loss']"
   ]
  },
  {
   "cell_type": "code",
   "execution_count": 299,
   "id": "0d31ef28",
   "metadata": {},
   "outputs": [
    {
     "name": "stdout",
     "output_type": "stream",
     "text": [
      "23/23 [==============================] - 0s 2ms/step\n"
     ]
    }
   ],
   "source": [
    "predicted=np.argmax(fmodel.predict(X_test_transformed),axis=1)"
   ]
  },
  {
   "cell_type": "code",
   "execution_count": 300,
   "id": "d549ee56",
   "metadata": {},
   "outputs": [
    {
     "data": {
      "text/plain": [
       "array([1, 1, 1, 1, 3, 3, 1, 1, 3, 1, 2, 0, 1, 1, 0, 2, 1, 1, 1, 3, 1, 0,\n",
       "       1, 0, 1, 1, 1, 1, 1, 2, 1, 1, 2, 1, 1, 1, 1, 3, 2, 3, 3, 0, 1, 2,\n",
       "       1, 1, 1, 3, 1, 1, 2, 2, 2, 1, 0, 1, 1, 2, 1, 1, 0, 1, 1, 3, 1, 1,\n",
       "       2, 1, 1, 3, 1, 2, 1, 3, 3, 1, 1, 1, 3, 3, 2, 0, 1, 1, 0, 1, 1, 1,\n",
       "       0, 0, 3, 0, 1, 1, 1, 1, 1, 2, 1, 1, 3, 1, 2, 1, 1, 3, 3, 0, 0, 1,\n",
       "       1, 1, 1, 1, 1, 1, 1, 1, 1, 1, 2, 2, 0, 2, 2, 1, 1, 2, 1, 3, 2, 1,\n",
       "       1, 1, 2, 2, 2, 1, 1, 2, 1, 1, 1, 1, 0, 3, 1, 1, 2, 1, 2, 1, 1, 1,\n",
       "       3, 1, 1, 1, 1, 0, 1, 1, 1, 2, 1, 0, 1, 1, 0, 1, 1, 3, 1, 3, 3, 3,\n",
       "       1, 1, 1, 0, 2, 1, 1, 0, 2, 1, 1, 1, 0, 0, 3, 1, 3, 1, 0, 2, 1, 0,\n",
       "       1, 3, 1, 1, 2, 1, 1, 1, 1, 1, 1, 1, 2, 1, 1, 1, 2, 0, 2, 1, 0, 1,\n",
       "       1, 0, 1, 1, 1, 2, 2, 1, 3, 1, 2, 3, 2, 1, 1, 1, 2, 3, 2, 2, 1, 0,\n",
       "       2, 2, 3, 1, 1, 1, 1, 2, 1, 3, 1, 1, 0, 1, 1, 1, 1, 3, 1, 1, 1, 1,\n",
       "       1, 3, 2, 2, 1, 1, 0, 2, 2, 2, 2, 3, 1, 3, 1, 1, 1, 2, 2, 2, 2, 1,\n",
       "       1, 1, 1, 0, 1, 2, 1, 0, 1, 2, 2, 3, 1, 2, 3, 1, 1, 3, 3, 1, 1, 2,\n",
       "       2, 2, 1, 0, 2, 1, 1, 1, 1, 1, 1, 2, 2, 2, 1, 1, 1, 1, 2, 2, 3, 1,\n",
       "       1, 0, 1, 1, 2, 2, 1, 1, 2, 0, 1, 3, 2, 2, 1, 0, 1, 1, 1, 1, 1, 1,\n",
       "       1, 1, 1, 2, 2, 1, 2, 1, 3, 1, 1, 1, 1, 2, 1, 0, 1, 1, 0, 2, 1, 0,\n",
       "       1, 1, 1, 1, 3, 1, 2, 2, 1, 1, 2, 0, 2, 2, 3, 2, 3, 0, 1, 2, 1, 1,\n",
       "       2, 1, 1, 1, 1, 1, 2, 1, 0, 1, 1, 1, 2, 0, 2, 1, 1, 0, 2, 2, 2, 1,\n",
       "       1, 1, 3, 1, 1, 1, 3, 0, 3, 1, 3, 2, 2, 3, 3, 2, 1, 0, 1, 1, 1, 1,\n",
       "       1, 1, 1, 1, 1, 1, 2, 2, 2, 3, 2, 1, 3, 1, 1, 1, 1, 0, 1, 1, 2, 2,\n",
       "       1, 1, 3, 3, 0, 1, 1, 2, 1, 2, 0, 0, 1, 2, 1, 1, 1, 3, 1, 1, 1, 1,\n",
       "       1, 1, 3, 2, 1, 2, 0, 1, 2, 2, 1, 3, 0, 1, 1, 0, 1, 2, 1, 2, 1, 1,\n",
       "       1, 2, 0, 0, 2, 1, 1, 1, 2, 2, 1, 2, 2, 1, 1, 2, 0, 1, 3, 1, 3, 1,\n",
       "       1, 1, 1, 2, 1, 1, 1, 3, 1, 2, 3, 1, 1, 1, 2, 1, 1, 1, 1, 1, 2, 1,\n",
       "       2, 0, 1, 2, 1, 1, 1, 1, 1, 1, 1, 1, 1, 1, 2, 1, 0, 1, 1, 3, 1, 2,\n",
       "       1, 1, 1, 1, 3, 1, 1, 1, 1, 2, 1, 1, 2, 3, 1, 1, 1, 1, 1, 1, 2, 1,\n",
       "       2, 3, 1, 1, 0, 1, 0, 2, 1, 1, 0, 1, 1, 1, 1, 2, 0, 1, 3, 3, 1, 0,\n",
       "       2, 2, 3, 1, 2, 3, 1, 1, 2, 2, 0, 0, 1, 1, 1, 1, 2, 1, 1, 1, 0, 1,\n",
       "       3, 1, 1, 1, 2, 1, 1, 3, 1, 1, 1, 1, 1, 1, 1, 2, 1, 1, 2, 3, 1, 1,\n",
       "       1, 2, 3, 1, 1, 1, 1, 1, 1, 1, 3, 1, 2, 1, 0, 1, 2, 2, 0, 1, 1, 1,\n",
       "       0, 1, 1, 3, 1, 1, 1, 1, 2, 2, 3, 1, 1, 1, 2, 1, 1, 2, 0, 2, 1, 1,\n",
       "       1, 1, 1, 3, 1, 1, 2, 0, 1, 2, 1, 2, 2, 2, 2, 3, 1, 1, 1, 1, 3],\n",
       "      dtype=int64)"
      ]
     },
     "execution_count": 300,
     "metadata": {},
     "output_type": "execute_result"
    }
   ],
   "source": [
    "predicted"
   ]
  },
  {
   "cell_type": "code",
   "execution_count": 301,
   "id": "35cda1fd",
   "metadata": {},
   "outputs": [],
   "source": [
    "from sklearn.metrics import accuracy_score, confusion_matrix, ConfusionMatrixDisplay"
   ]
  },
  {
   "cell_type": "code",
   "execution_count": 302,
   "id": "776e1310",
   "metadata": {},
   "outputs": [
    {
     "name": "stdout",
     "output_type": "stream",
     "text": [
      "accuracy 0.9406896551724138\n"
     ]
    }
   ],
   "source": [
    "print('accuracy',accuracy_score(y_test,predicted))"
   ]
  },
  {
   "cell_type": "code",
   "execution_count": 303,
   "id": "268c09ad",
   "metadata": {},
   "outputs": [
    {
     "data": {
      "image/png": "[encoded data removed]",
      "text/plain": [
       "<Figure size 640x480 with 2 Axes>"
      ]
     },
     "metadata": {},
     "output_type": "display_data"
    }
   ],
   "source": [
    "cm = confusion_matrix(y_test,predicted)\n",
    "va = ConfusionMatrixDisplay(cm)\n",
    "va.plot()\n",
    "plt.show()"
   ]
  },
  {
   "cell_type": "code",
   "execution_count": null,
   "id": "1abb95c2",
   "metadata": {},
   "outputs": [],
   "source": []
  },
  {
   "cell_type": "code",
   "execution_count": null,
   "id": "f60bf44f",
   "metadata": {},
   "outputs": [],
   "source": []
  },
  {
   "cell_type": "code",
   "execution_count": null,
   "id": "6d4489eb",
   "metadata": {},
   "outputs": [],
   "source": []
  },
  {
   "cell_type": "code",
   "execution_count": null,
   "id": "7e146950",
   "metadata": {},
   "outputs": [],
   "source": []
  },
  {
   "cell_type": "code",
   "execution_count": null,
   "id": "7f4876fe",
   "metadata": {},
   "outputs": [],
   "source": []
  },
  {
   "cell_type": "code",
   "execution_count": null,
   "id": "b9d76eb4",
   "metadata": {},
   "outputs": [],
   "source": []
  }
 ],
 "metadata": {
  "kernelspec": {
   "display_name": "Python 3 (ipykernel)",
   "language": "python",
   "name": "python3"
  },
  "language_info": {
   "codemirror_mode": {
    "name": "ipython",
    "version": 3
   },
   "file_extension": ".py",
   "mimetype": "text/x-python",
   "name": "python",
   "nbconvert_exporter": "python",
   "pygments_lexer": "ipython3",
   "version": "3.11.5"
  }
 },
 "nbformat": 4,
 "nbformat_minor": 5
}
